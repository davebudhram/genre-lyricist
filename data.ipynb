{
 "cells": [
  {
   "cell_type": "code",
   "execution_count": 82,
   "metadata": {},
   "outputs": [
    {
     "data": {
      "text/plain": [
       "True"
      ]
     },
     "execution_count": 82,
     "metadata": {},
     "output_type": "execute_result"
    }
   ],
   "source": [
    "import os\n",
    "from dotenv import load_dotenv, dotenv_values\n",
    "\n",
    "# Load existing environment variables\n",
    "load_dotenv()"
   ]
  },
  {
   "cell_type": "code",
   "execution_count": 61,
   "metadata": {},
   "outputs": [],
   "source": [
    "import pandas as pd\n",
    "\n",
    "# Read the data\n",
    "df = pd.read_csv('spotify_millsongdata.csv')"
   ]
  },
  {
   "cell_type": "code",
   "execution_count": 62,
   "metadata": {},
   "outputs": [],
   "source": [
    "df['genre'] = ''"
   ]
  },
  {
   "cell_type": "code",
   "execution_count": 63,
   "metadata": {},
   "outputs": [
    {
     "data": {
      "text/html": [
       "<div>\n",
       "<style scoped>\n",
       "    .dataframe tbody tr th:only-of-type {\n",
       "        vertical-align: middle;\n",
       "    }\n",
       "\n",
       "    .dataframe tbody tr th {\n",
       "        vertical-align: top;\n",
       "    }\n",
       "\n",
       "    .dataframe thead th {\n",
       "        text-align: right;\n",
       "    }\n",
       "</style>\n",
       "<table border=\"1\" class=\"dataframe\">\n",
       "  <thead>\n",
       "    <tr style=\"text-align: right;\">\n",
       "      <th></th>\n",
       "      <th>artist</th>\n",
       "      <th>song</th>\n",
       "      <th>link</th>\n",
       "      <th>text</th>\n",
       "      <th>genre</th>\n",
       "    </tr>\n",
       "  </thead>\n",
       "  <tbody>\n",
       "    <tr>\n",
       "      <th>0</th>\n",
       "      <td>ABBA</td>\n",
       "      <td>Ahe's My Kind Of Girl</td>\n",
       "      <td>/a/abba/ahes+my+kind+of+girl_20598417.html</td>\n",
       "      <td>Look at her face, it's a wonderful face  \\r\\nA...</td>\n",
       "      <td></td>\n",
       "    </tr>\n",
       "    <tr>\n",
       "      <th>1</th>\n",
       "      <td>ABBA</td>\n",
       "      <td>Andante, Andante</td>\n",
       "      <td>/a/abba/andante+andante_20002708.html</td>\n",
       "      <td>Take it easy with me, please  \\r\\nTouch me gen...</td>\n",
       "      <td></td>\n",
       "    </tr>\n",
       "    <tr>\n",
       "      <th>2</th>\n",
       "      <td>ABBA</td>\n",
       "      <td>As Good As New</td>\n",
       "      <td>/a/abba/as+good+as+new_20003033.html</td>\n",
       "      <td>I'll never know why I had to go  \\r\\nWhy I had...</td>\n",
       "      <td></td>\n",
       "    </tr>\n",
       "    <tr>\n",
       "      <th>3</th>\n",
       "      <td>ABBA</td>\n",
       "      <td>Bang</td>\n",
       "      <td>/a/abba/bang_20598415.html</td>\n",
       "      <td>Making somebody happy is a question of give an...</td>\n",
       "      <td></td>\n",
       "    </tr>\n",
       "    <tr>\n",
       "      <th>4</th>\n",
       "      <td>ABBA</td>\n",
       "      <td>Bang-A-Boomerang</td>\n",
       "      <td>/a/abba/bang+a+boomerang_20002668.html</td>\n",
       "      <td>Making somebody happy is a question of give an...</td>\n",
       "      <td></td>\n",
       "    </tr>\n",
       "  </tbody>\n",
       "</table>\n",
       "</div>"
      ],
      "text/plain": [
       "  artist                   song                                        link  \\\n",
       "0   ABBA  Ahe's My Kind Of Girl  /a/abba/ahes+my+kind+of+girl_20598417.html   \n",
       "1   ABBA       Andante, Andante       /a/abba/andante+andante_20002708.html   \n",
       "2   ABBA         As Good As New        /a/abba/as+good+as+new_20003033.html   \n",
       "3   ABBA                   Bang                  /a/abba/bang_20598415.html   \n",
       "4   ABBA       Bang-A-Boomerang      /a/abba/bang+a+boomerang_20002668.html   \n",
       "\n",
       "                                                text genre  \n",
       "0  Look at her face, it's a wonderful face  \\r\\nA...        \n",
       "1  Take it easy with me, please  \\r\\nTouch me gen...        \n",
       "2  I'll never know why I had to go  \\r\\nWhy I had...        \n",
       "3  Making somebody happy is a question of give an...        \n",
       "4  Making somebody happy is a question of give an...        "
      ]
     },
     "execution_count": 63,
     "metadata": {},
     "output_type": "execute_result"
    }
   ],
   "source": [
    "df.head()"
   ]
  },
  {
   "cell_type": "code",
   "execution_count": 83,
   "metadata": {},
   "outputs": [],
   "source": [
    "import spotipy\n",
    "from spotipy.oauth2 import SpotifyClientCredentials\n",
    "\n",
    "def get_artist_genre(client_id, client_secret, artist_name):\n",
    "    # Set up Spotify API credentials\n",
    "    client_credentials_manager = SpotifyClientCredentials(client_id=client_id, client_secret=client_secret)\n",
    "    sp = spotipy.Spotify(client_credentials_manager=client_credentials_manager)\n",
    "\n",
    "    # Search for the artist\n",
    "    results = sp.search(q=artist_name, type='artist', limit=1)\n",
    "\n",
    "    # Check if there are search results\n",
    "    if results['artists']['items']:\n",
    "        artist_genres = results['artists']['items'][0]['genres']\n",
    "        return artist_genres\n",
    "    else:\n",
    "        return []\n",
    "    \n",
    "client_id = os.getenv('SPOTIFY_CLIENT_ID')\n",
    "client_secret = os.getenv('SPOTIFY_CLIENT_SECRET')\n"
   ]
  },
  {
   "cell_type": "code",
   "execution_count": 76,
   "metadata": {},
   "outputs": [],
   "source": [
    "def genre_list_to_genre(genre_list):\n",
    "  if 'rock' in genre_list:\n",
    "    return 'rock'\n",
    "  elif 'hip hop' in genre_list:\n",
    "    return 'hip hop'\n",
    "  elif 'indie' in genre_list:\n",
    "    return 'indie'\n",
    "  elif 'jazz' in genre_list:\n",
    "    return 'jazz'\n",
    "  elif 'pop' in genre_list:\n",
    "    return 'pop'"
   ]
  },
  {
   "cell_type": "code",
   "execution_count": 84,
   "metadata": {},
   "outputs": [],
   "source": [
    "artist_set = df['artist'].unique()\n",
    "\n",
    "for artist in artist_set:\n",
    "    artist_genres = get_artist_genre(client_id, client_secret, artist)\n",
    "    rows = df.loc[df['artist'] == artist]\n",
    "    for index, row in rows.iterrows():\n",
    "        df.at[index, 'genre'] = genre_list_to_genre(artist_genres)"
   ]
  },
  {
   "cell_type": "code",
   "execution_count": 69,
   "metadata": {},
   "outputs": [
    {
     "name": "stdout",
     "output_type": "stream",
     "text": [
      "0\n"
     ]
    }
   ],
   "source": [
    "count = 0\n",
    "for index, row in df.iterrows():\n",
    "  if row['genre'] == '':\n",
    "    count += 1\n",
    "print(count)\n",
    "  "
   ]
  },
  {
   "cell_type": "code",
   "execution_count": 70,
   "metadata": {},
   "outputs": [
    {
     "data": {
      "text/html": [
       "<div>\n",
       "<style scoped>\n",
       "    .dataframe tbody tr th:only-of-type {\n",
       "        vertical-align: middle;\n",
       "    }\n",
       "\n",
       "    .dataframe tbody tr th {\n",
       "        vertical-align: top;\n",
       "    }\n",
       "\n",
       "    .dataframe thead th {\n",
       "        text-align: right;\n",
       "    }\n",
       "</style>\n",
       "<table border=\"1\" class=\"dataframe\">\n",
       "  <thead>\n",
       "    <tr style=\"text-align: right;\">\n",
       "      <th></th>\n",
       "      <th>artist</th>\n",
       "      <th>song</th>\n",
       "      <th>link</th>\n",
       "      <th>text</th>\n",
       "      <th>genre</th>\n",
       "    </tr>\n",
       "  </thead>\n",
       "  <tbody>\n",
       "    <tr>\n",
       "      <th>0</th>\n",
       "      <td>ABBA</td>\n",
       "      <td>Ahe's My Kind Of Girl</td>\n",
       "      <td>/a/abba/ahes+my+kind+of+girl_20598417.html</td>\n",
       "      <td>Look at her face, it's a wonderful face  \\r\\nA...</td>\n",
       "      <td>None</td>\n",
       "    </tr>\n",
       "    <tr>\n",
       "      <th>1</th>\n",
       "      <td>ABBA</td>\n",
       "      <td>Andante, Andante</td>\n",
       "      <td>/a/abba/andante+andante_20002708.html</td>\n",
       "      <td>Take it easy with me, please  \\r\\nTouch me gen...</td>\n",
       "      <td>None</td>\n",
       "    </tr>\n",
       "    <tr>\n",
       "      <th>2</th>\n",
       "      <td>ABBA</td>\n",
       "      <td>As Good As New</td>\n",
       "      <td>/a/abba/as+good+as+new_20003033.html</td>\n",
       "      <td>I'll never know why I had to go  \\r\\nWhy I had...</td>\n",
       "      <td>None</td>\n",
       "    </tr>\n",
       "    <tr>\n",
       "      <th>3</th>\n",
       "      <td>ABBA</td>\n",
       "      <td>Bang</td>\n",
       "      <td>/a/abba/bang_20598415.html</td>\n",
       "      <td>Making somebody happy is a question of give an...</td>\n",
       "      <td>None</td>\n",
       "    </tr>\n",
       "    <tr>\n",
       "      <th>4</th>\n",
       "      <td>ABBA</td>\n",
       "      <td>Bang-A-Boomerang</td>\n",
       "      <td>/a/abba/bang+a+boomerang_20002668.html</td>\n",
       "      <td>Making somebody happy is a question of give an...</td>\n",
       "      <td>None</td>\n",
       "    </tr>\n",
       "  </tbody>\n",
       "</table>\n",
       "</div>"
      ],
      "text/plain": [
       "  artist                   song                                        link  \\\n",
       "0   ABBA  Ahe's My Kind Of Girl  /a/abba/ahes+my+kind+of+girl_20598417.html   \n",
       "1   ABBA       Andante, Andante       /a/abba/andante+andante_20002708.html   \n",
       "2   ABBA         As Good As New        /a/abba/as+good+as+new_20003033.html   \n",
       "3   ABBA                   Bang                  /a/abba/bang_20598415.html   \n",
       "4   ABBA       Bang-A-Boomerang      /a/abba/bang+a+boomerang_20002668.html   \n",
       "\n",
       "                                                text genre  \n",
       "0  Look at her face, it's a wonderful face  \\r\\nA...  None  \n",
       "1  Take it easy with me, please  \\r\\nTouch me gen...  None  \n",
       "2  I'll never know why I had to go  \\r\\nWhy I had...  None  \n",
       "3  Making somebody happy is a question of give an...  None  \n",
       "4  Making somebody happy is a question of give an...  None  "
      ]
     },
     "execution_count": 70,
     "metadata": {},
     "output_type": "execute_result"
    }
   ],
   "source": [
    "df.head()"
   ]
  },
  {
   "cell_type": "code",
   "execution_count": 38,
   "metadata": {},
   "outputs": [],
   "source": [
    "df = df[df['genre'].apply(lambda x: len(x) > 0)]"
   ]
  },
  {
   "cell_type": "code",
   "execution_count": 39,
   "metadata": {},
   "outputs": [],
   "source": [
    "genres = df['genre'].explode().unique()"
   ]
  },
  {
   "cell_type": "code",
   "execution_count": 47,
   "metadata": {},
   "outputs": [
    {
     "name": "stdout",
     "output_type": "stream",
     "text": [
      "Stand up! oechyeodo gyeolgugen dabeun no  \n",
      "Buseojin nae mamui jogagi banjjakbanjjak hae  \n",
      "Ppajyeodeureossgo chulguttawin eopseossgo  \n",
      "Gyeolgugen je jari tto gireul ilheoga nan  \n",
      "Taneun jeo haega jyeo geureohge neoneun deouk nunbusyeo  \n",
      "Eoneusae nan nuni meoreobeoryeo  \n",
      "Nae ape taoreuneun bulgiljocha boiji anha  \n",
      "Cheoncheonhi tadeureoga  \n",
      "  \n",
      "I modeun geon kkum neon janinhan Queen  \n",
      "Geu areumdaum dwi gasi gamchwosseuni  \n",
      "Dangerous dangerous she's so dangerous  \n",
      "Kkaeji anhneun kkum geu aneseo pin  \n",
      "Gin oeroumeul kkeokkgoseo naragari  \n",
      "Exodus exodus it's my Exodus  \n",
      "  \n",
      "Step back! oechyeodo nae mamui domino  \n",
      "Sseureojyeo ganeunde neon gogael kkadakkkattak hae  \n",
      "Deoneun mwol haedo doedollil su eopseossgo  \n",
      "Gipeojin hansume nan himi ppajyeoga girl  \n",
      "Meorissok neoneun shock eodireul gado nega deullyeowa  \n",
      "Eoneusae nan gwido meoreobeoryeo  \n",
      "Geu mueol malhaedo neobakkeneun deulliji anha  \n",
      "Teum eopsi sarojaphyeo  \n",
      "  \n",
      "I modeungeon kkum neon janinhan Queen  \n",
      "Geu areumdaum dwi gasi gamchwosseuni  \n",
      "Dangerous dangerous she's so dangerous  \n",
      "Kkaeji anhneun kkum geu aneseo pin  \n",
      "Gin oeroumeul kkeokkgoseo naragari  \n",
      "Exodus exodus it's my Exodus  \n",
      "  \n",
      "Neon tumyeonghan yuriui seongbyeok  \n",
      "Boseokcheoreom biccnada ne ane nareul gadwo  \n",
      "Neoege michin nan ireoda michyeo  \n",
      "Pihaji moshal byeonge geollyeo  \n",
      "She's dangerously hot  \n",
      "  \n",
      "Ne dalkomhan pum nan nayakhan king  \n",
      "Neo anin modeun geol jeonbu ilheosseuni  \n",
      "Dangerous dangerous she's so dangerous  \n",
      "Nal gadun ne pum jeo neomeoui gil  \n",
      "Geu bicceul hyanghae nan neoreul talchulhari  \n",
      "Exodus exodus it's my Exodus\n",
      "\n"
     ]
    }
   ],
   "source": [
    "text_variable = '''Stand up! oechyeodo gyeolgugen dabeun no  \n",
    "Buseojin nae mamui jogagi banjjakbanjjak hae  \n",
    "Ppajyeodeureossgo chulguttawin eopseossgo  \n",
    "Gyeolgugen je jari tto gireul ilheoga nan  \n",
    "Taneun jeo haega jyeo geureohge neoneun deouk nunbusyeo  \n",
    "Eoneusae nan nuni meoreobeoryeo  \n",
    "Nae ape taoreuneun bulgiljocha boiji anha  \n",
    "Cheoncheonhi tadeureoga  \n",
    "  \n",
    "I modeun geon kkum neon janinhan Queen  \n",
    "Geu areumdaum dwi gasi gamchwosseuni  \n",
    "Dangerous dangerous she's so dangerous  \n",
    "Kkaeji anhneun kkum geu aneseo pin  \n",
    "Gin oeroumeul kkeokkgoseo naragari  \n",
    "Exodus exodus it's my Exodus  \n",
    "  \n",
    "Step back! oechyeodo nae mamui domino  \n",
    "Sseureojyeo ganeunde neon gogael kkadakkkattak hae  \n",
    "Deoneun mwol haedo doedollil su eopseossgo  \n",
    "Gipeojin hansume nan himi ppajyeoga girl  \n",
    "Meorissok neoneun shock eodireul gado nega deullyeowa  \n",
    "Eoneusae nan gwido meoreobeoryeo  \n",
    "Geu mueol malhaedo neobakkeneun deulliji anha  \n",
    "Teum eopsi sarojaphyeo  \n",
    "  \n",
    "I modeungeon kkum neon janinhan Queen  \n",
    "Geu areumdaum dwi gasi gamchwosseuni  \n",
    "Dangerous dangerous she's so dangerous  \n",
    "Kkaeji anhneun kkum geu aneseo pin  \n",
    "Gin oeroumeul kkeokkgoseo naragari  \n",
    "Exodus exodus it's my Exodus  \n",
    "  \n",
    "Neon tumyeonghan yuriui seongbyeok  \n",
    "Boseokcheoreom biccnada ne ane nareul gadwo  \n",
    "Neoege michin nan ireoda michyeo  \n",
    "Pihaji moshal byeonge geollyeo  \n",
    "She's dangerously hot  \n",
    "  \n",
    "Ne dalkomhan pum nan nayakhan king  \n",
    "Neo anin modeun geol jeonbu ilheosseuni  \n",
    "Dangerous dangerous she's so dangerous  \n",
    "Nal gadun ne pum jeo neomeoui gil  \n",
    "Geu bicceul hyanghae nan neoreul talchulhari  \n",
    "Exodus exodus it's my Exodus\n",
    "'''\n",
    "\n",
    "# Now, you can use the 'text_variable' variable in your Python code\n",
    "print(text_variable)\n"
   ]
  },
  {
   "cell_type": "code",
   "execution_count": 53,
   "metadata": {},
   "outputs": [],
   "source": [
    "import langid\n",
    "\n",
    "def detect_language(text):\n",
    "    # Returns a tuple containing the language code and the confidence\n",
    "    lang, confidence = langid.classify(text)\n",
    "    return lang == 'en'\n",
    "\n",
    "# Example usage\n",
    "text_to_check = \"This is a sample text in English.\""
   ]
  },
  {
   "cell_type": "code",
   "execution_count": 51,
   "metadata": {},
   "outputs": [
    {
     "name": "stdout",
     "output_type": "stream",
     "text": [
      "56744\n"
     ]
    }
   ],
   "source": [
    "print(len(df))"
   ]
  },
  {
   "cell_type": "code",
   "execution_count": 58,
   "metadata": {},
   "outputs": [],
   "source": [
    "df = df[df['text'].apply(lambda x: detect_language(x))]"
   ]
  },
  {
   "cell_type": "code",
   "execution_count": 59,
   "metadata": {},
   "outputs": [
    {
     "name": "stdout",
     "output_type": "stream",
     "text": [
      "55440\n"
     ]
    }
   ],
   "source": [
    "print(len(df))"
   ]
  },
  {
   "cell_type": "code",
   "execution_count": 60,
   "metadata": {},
   "outputs": [
    {
     "name": "stdout",
     "output_type": "stream",
     "text": [
      "['comic' 'geek folk' 'geek rock' 'kingston on indie' 'canadian pop'\n",
      " 'candy pop' 'dance pop' 'pop' 'boy band' 'adult standards' 'operatic pop'\n",
      " 'soft rock' 'baroque pop' 'classic rock' 'folk rock' 'mellow gold'\n",
      " 'psychedelic rock' 'rock' 'sunshine pop' 'beatlesque' 'british invasion'\n",
      " 'merseybeat' 'britpop' 'melancholia' 'new wave pop' 'sophisti-pop'\n",
      " 'movie tunes' 'disco' 'classic soul' 'funk' 'quiet storm' 'soul'\n",
      " 'harlem renaissance' 'jazz' 'jazz blues' 'swing' 'torch song'\n",
      " 'vocal jazz' 'album rock' 'heartland rock' 'piano rock'\n",
      " 'singer-songwriter' 'easy listening' 'lounge' 'alternative metal'\n",
      " 'birmingham metal' 'hard rock' 'metal' 'stoner rock' 'uk doom metal'\n",
      " 'alternative rock' 'madchester' 'permanent wave' 'country rock' 'folk'\n",
      " 'roots rock' 'reggae' 'roots reggae' 'parody' 'detroit rock' 'glam metal'\n",
      " 'europop' 'electric blues' 'classic oklahoma country' 'country'\n",
      " 'country road' 'pop rock' 'post-grunge' 'sacramento indie' 'opm'\n",
      " 'british folk' 'neo soul' 'glam rock' 'power pop' 'yacht rock'\n",
      " 'finnish death metal' 'finnish melodeath' 'groove metal'\n",
      " 'melodic death metal' 'nu metal' 'power metal' 'speed metal' 'pop rap'\n",
      " 'r&b' 'rap' 'celtic' 'irish folk' 'irish rock' 'blues' 'blues rock'\n",
      " 'rock-and-roll' 'rockabilly' 'punk' 'tin pan alley' 'arkansas country'\n",
      " 'classic country pop' 'neo mellow' 'southern rock' 'swamp rock'\n",
      " 'australian rock' 'new romantic' 'new wave' 'synthpop' 'jam band'\n",
      " 'outlaw country' 'art rock' 'big room' 'edm' 'pop dance' 'classic opm'\n",
      " 'canadian indie' 'chamber pop' 'indie rock' 'indietronica' 'modern rock'\n",
      " 'seattle indie' 'washington indie' 'nwobhm' 'post-teen pop' 'dance rock'\n",
      " 'art punk' 'post-punk' 'synth punk' 'zolo' 'classic indonesian rock'\n",
      " 'indonesian pop' 'indonesian rock' 'motown' 'desi hip hop' 'desi trap'\n",
      " 'hindi hip hop' 'country dawn' 'classic praise' 'messianic praise'\n",
      " 'tagalog worship' 'world worship' 'hi-nrg' 'acid rock' 'canadian hip hop'\n",
      " 'hip hop' 'progressive metal' 'singer-songwriter pop' 'uk pop'\n",
      " 'symphonic rock' 'metropopolis' 'detroit hip hop' 'lilith' 'banda'\n",
      " 'corrido' 'musica mexicana' 'norteno' 'latin pop' 'mexican pop'\n",
      " 'middle earth' 'classic finnish rock' 'finnish new wave' 'suomi rock'\n",
      " 'soul blues' 'swedish hard rock' 'swedish melodic rock' 'k-pop'\n",
      " 'k-pop boy group' 'funk metal' 'gangster rap' 'trap' 'urban contemporary'\n",
      " 'ska' 'skate punk' 'protopunk' 'contemporary country' 'funk rock'\n",
      " 'rap metal' 'austropop' 'neue deutsche welle' 'emo' 'big beat'\n",
      " 'electronica' 'girl group' 'talent show' 'art pop' 'dark pop'\n",
      " 'miami hip hop' 'experimental' 'instrumental rock' 'jazz fusion'\n",
      " 'jazz rock' 'progressive rock' 'cowboy western' 'bubblegum pop'\n",
      " 'acoustic blues' 'texas blues' 'traditional blues' 'alternative r&b'\n",
      " 'indie soul' 'papuri' 'pinoy praise' 'british comedy' 'music hall'\n",
      " 'honky tonk' 'classic canadian rock' 'flamenco' 'rumba' 'world'\n",
      " 'glee club' 'nashville sound' 'canadian country'\n",
      " 'canadian singer-songwriter' 'cosmic american' 'canadian celtic'\n",
      " 'canadian rock' 'celtic rock' 'nl folk' 'atl hip hop' 'dirty south rap'\n",
      " 'southern hip hop' 'alternative pop' 'dayton indie' 'gbvfi' 'lo-fi'\n",
      " 'modern power pop' 'noise pop' 'ohio indie' 'tape club' 'halloween'\n",
      " 'western swing' 'calypso' 'contemporary vocal jazz' 'german metal'\n",
      " 'german power metal' 'old school thrash' 'symphonic metal' 'thrash metal'\n",
      " 'ccm' 'christian music' 'worship' 'dark rock' 'finnish alternative rock'\n",
      " 'gothic metal' 'downtempo' 'trip hop' 'pub rock' 'conscious hip hop'\n",
      " 'g funk' 'west coast rap' 'broadway' 'hollywood' 'show tunes'\n",
      " 'deep christian rock' 'jesus movement' 'acid jazz' 'brit funk'\n",
      " 'modern funk' 'apostolic worship' 'ectofolk' \"women's music\"\n",
      " 'acoustic pop' 'romanian house' 'romanian pop' 'rap rock' 'viral rap'\n",
      " 'proto-metal' 'hawaiian' 'gospel' 'north carolina hip hop' 'mod revival'\n",
      " 'trop rock' 'pop soul' 'psychedelic folk' 'new americana' 'uk post-punk'\n",
      " 'chicago rap' 'christian alternative rock' 'australian country'\n",
      " 'australian pop' 'modern country rock' 'danish metal' 'gospel r&b'\n",
      " 'uk funky' 'australian dance' 'eurodance' 'new jersey rap'\n",
      " 'new orleans rap' 'chicago blues' 'harmonica blues' 'louisiana blues'\n",
      " 'east coast hip hop' 'golden age hip hop' 'old school hip hop'\n",
      " 'queens hip hop' 'scottish new wave' 'nz pop' 'dixieland' 'jazz trumpet'\n",
      " 'new orleans jazz' 'rhythm and blues' 'african reggae' 'comic metal'\n",
      " 'us power metal' 'neo-progressive' 'industrial' 'industrial metal'\n",
      " 'industrial rock' 'dream pop' 'shoegaze' 'slowcore' 'miami bass'\n",
      " 'melodic thrash' 'jazz pop' 'horror punk' 'new jersey hardcore'\n",
      " 'new jersey punk' 'flute rock' 'solo wave' 'brill building pop' 'hip pop'\n",
      " 'fantasy metal' 'finnish metal' 'finnish power metal'\n",
      " 'gothic symphonic metal' 'opera metal' 'soul jazz' 'cyberpunk'\n",
      " 'electronic rock' 'grunge' 'pov: indie' 'socal pop punk'\n",
      " 'hardcore hip hop' 'moldovan pop' 'classic israeli pop'\n",
      " 'israeli singer-songwriter' 'mizrahi' 'alternative country'\n",
      " 'dallas indie' 'modern country pop' 'sigilkore' 'sped up'\n",
      " 'progressive death metal' 'swedish metal' 'swedish progressive metal'\n",
      " 'christian power metal' 'folk metal' 'israeli metal' 'oriental metal'\n",
      " 'memphis soul' 'southern soul' 'old school atlanta hip hop' 'folk-pop'\n",
      " 'rock drums' 'celtic punk' 'folk punk' 'minneapolis sound' 'synth funk'\n",
      " 'scottish rock' 'medieval folk' 'neue deutsche todeskunst' 'rune folk'\n",
      " 'icelandic hip hop' 'icelandic rock' 'alternative hip hop'\n",
      " 'psychedelic hip hop' 'slayer' 'palm desert scene' 'stoner metal' 'nyhc'\n",
      " 'post-hardcore' 'classic garage rock' 'neon pop punk' 'pixie' 'pop punk'\n",
      " 'oxford indie' \"canadian children's music\" \"children's folk\"\n",
      " \"children's music\" 'political hip hop' 'neue deutsche harte'\n",
      " 'early us punk' 'country gospel' 'piano blues' 'afrobeats' 'nigerian pop'\n",
      " 'barbadian pop' 'swedish pop' 'canadian metal' 'mexican classic rock'\n",
      " 'german hard rock' 'german rock' 'death metal' 'british blues'\n",
      " 'reggae fusion' 'ska mexicano' 'ska punk' 'chicago punk' 'orgcore'\n",
      " 'canadian contemporary r&b' 'classic texas country' 'ontario indie'\n",
      " 'slap house' 'uk reggae' 'bronx hip hop' 'christian metal'\n",
      " 'christian metalcore' 'melodic metalcore' 'metalcore' 'screamo'\n",
      " 'tampa indie' 'boston metal' 'deathcore' 'kiwi rock' 'neo-psychedelic'\n",
      " 'portland hip hop' 'psychedelic pop' 'lo-fi vgm' 'pop emo'\n",
      " 'contemporary r&b' 'south carolina hip hop' 'anime' 'classic j-pop'\n",
      " 'j-pop' 'japanese singer-songwriter' 'synthesizer' 'bubblegum dance'\n",
      " 'black metal' 'black thrash' 'british black metal' 'riot grrrl'\n",
      " 'acoustic punk' 'dancehall' 'jamaican dancehall'\n",
      " 'modern alternative rock' 'comedy rock' 'garage rock' 'modern blues rock'\n",
      " 'punk blues' 'athens indie' 'dutch metal' 'pittsburgh rap' 'rap kreyol'\n",
      " 'emo rap' 'japanese heavy metal' 'japanese power metal' 'visual kei'\n",
      " 'hyphy' 'sacramento hip hop' 'black punk' 'german pop'\n",
      " 'australian indie folk' 'australian reggae fusion' 'bay area indie'\n",
      " 'experimental pop' 'experimental rock' 'grave wave' 'alternative dance'\n",
      " 'dance-punk' 'neo-synthpop' 'new rave' 'alabama rap' 'cali rap' 'crunk'\n",
      " 'metal guitar' 'neo classical metal' 'shred' 'memphis hip hop'\n",
      " 'tennessee hip hop' 'new jersey indie' 'banjo' 'jamgrass'\n",
      " 'progressive bluegrass' 'string band' 'australian alternative rock'\n",
      " 'nashville hip hop' 'futuristic swag' 'connecticut hardcore' 'hardcore'\n",
      " 'straight edge' 'vegan straight edge' 'oakland hip hop'\n",
      " 'chopped and screwed' 'houston rap' 'southern metal' 'complextro'\n",
      " 'german techno' 'latin alternative' 'latin rock' 'mexican rock'\n",
      " 'morelos indie' 'rock en espanol' 'belgian rock' 'rhode island indie'\n",
      " 'italian adult pop' 'italian pop rock' 'belgian hip hop' 'british soul'\n",
      " 'bluegrass' 'classical tenor' 'italian tenor' 'kundiman'\n",
      " 'italian progressive rock' 'chanson' 'french pop' 'french rock']\n"
     ]
    }
   ],
   "source": [
    "genres = df['genre'].explode().unique()\n",
    "print(genres)"
   ]
  }
 ],
 "metadata": {
  "kernelspec": {
   "display_name": "Python 3",
   "language": "python",
   "name": "python3"
  },
  "language_info": {
   "codemirror_mode": {
    "name": "ipython",
    "version": 3
   },
   "file_extension": ".py",
   "mimetype": "text/x-python",
   "name": "python",
   "nbconvert_exporter": "python",
   "pygments_lexer": "ipython3",
   "version": "3.11.5"
  }
 },
 "nbformat": 4,
 "nbformat_minor": 2
}
