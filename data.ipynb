{
 "cells": [
  {
   "cell_type": "code",
   "execution_count": 13,
   "metadata": {},
   "outputs": [
    {
     "data": {
      "text/plain": [
       "True"
      ]
     },
     "execution_count": 13,
     "metadata": {},
     "output_type": "execute_result"
    }
   ],
   "source": [
    "import os\n",
    "from dotenv import load_dotenv, dotenv_values\n",
    "\n",
    "# Load existing environment variables\n",
    "load_dotenv()"
   ]
  },
  {
   "cell_type": "code",
   "execution_count": 14,
   "metadata": {},
   "outputs": [],
   "source": [
    "import pandas as pd\n",
    "\n",
    "# Read the data\n",
    "df = pd.read_csv('spotify_millsongdata.csv')"
   ]
  },
  {
   "cell_type": "code",
   "execution_count": 15,
   "metadata": {},
   "outputs": [],
   "source": [
    "df['genre'] = ''"
   ]
  },
  {
   "cell_type": "code",
   "execution_count": 16,
   "metadata": {},
   "outputs": [
    {
     "data": {
      "text/html": [
       "<div>\n",
       "<style scoped>\n",
       "    .dataframe tbody tr th:only-of-type {\n",
       "        vertical-align: middle;\n",
       "    }\n",
       "\n",
       "    .dataframe tbody tr th {\n",
       "        vertical-align: top;\n",
       "    }\n",
       "\n",
       "    .dataframe thead th {\n",
       "        text-align: right;\n",
       "    }\n",
       "</style>\n",
       "<table border=\"1\" class=\"dataframe\">\n",
       "  <thead>\n",
       "    <tr style=\"text-align: right;\">\n",
       "      <th></th>\n",
       "      <th>artist</th>\n",
       "      <th>song</th>\n",
       "      <th>link</th>\n",
       "      <th>text</th>\n",
       "      <th>genre</th>\n",
       "    </tr>\n",
       "  </thead>\n",
       "  <tbody>\n",
       "    <tr>\n",
       "      <th>0</th>\n",
       "      <td>ABBA</td>\n",
       "      <td>Ahe's My Kind Of Girl</td>\n",
       "      <td>/a/abba/ahes+my+kind+of+girl_20598417.html</td>\n",
       "      <td>Look at her face, it's a wonderful face  \\r\\nA...</td>\n",
       "      <td></td>\n",
       "    </tr>\n",
       "    <tr>\n",
       "      <th>1</th>\n",
       "      <td>ABBA</td>\n",
       "      <td>Andante, Andante</td>\n",
       "      <td>/a/abba/andante+andante_20002708.html</td>\n",
       "      <td>Take it easy with me, please  \\r\\nTouch me gen...</td>\n",
       "      <td></td>\n",
       "    </tr>\n",
       "    <tr>\n",
       "      <th>2</th>\n",
       "      <td>ABBA</td>\n",
       "      <td>As Good As New</td>\n",
       "      <td>/a/abba/as+good+as+new_20003033.html</td>\n",
       "      <td>I'll never know why I had to go  \\r\\nWhy I had...</td>\n",
       "      <td></td>\n",
       "    </tr>\n",
       "    <tr>\n",
       "      <th>3</th>\n",
       "      <td>ABBA</td>\n",
       "      <td>Bang</td>\n",
       "      <td>/a/abba/bang_20598415.html</td>\n",
       "      <td>Making somebody happy is a question of give an...</td>\n",
       "      <td></td>\n",
       "    </tr>\n",
       "    <tr>\n",
       "      <th>4</th>\n",
       "      <td>ABBA</td>\n",
       "      <td>Bang-A-Boomerang</td>\n",
       "      <td>/a/abba/bang+a+boomerang_20002668.html</td>\n",
       "      <td>Making somebody happy is a question of give an...</td>\n",
       "      <td></td>\n",
       "    </tr>\n",
       "  </tbody>\n",
       "</table>\n",
       "</div>"
      ],
      "text/plain": [
       "  artist                   song                                        link  \\\n",
       "0   ABBA  Ahe's My Kind Of Girl  /a/abba/ahes+my+kind+of+girl_20598417.html   \n",
       "1   ABBA       Andante, Andante       /a/abba/andante+andante_20002708.html   \n",
       "2   ABBA         As Good As New        /a/abba/as+good+as+new_20003033.html   \n",
       "3   ABBA                   Bang                  /a/abba/bang_20598415.html   \n",
       "4   ABBA       Bang-A-Boomerang      /a/abba/bang+a+boomerang_20002668.html   \n",
       "\n",
       "                                                text genre  \n",
       "0  Look at her face, it's a wonderful face  \\r\\nA...        \n",
       "1  Take it easy with me, please  \\r\\nTouch me gen...        \n",
       "2  I'll never know why I had to go  \\r\\nWhy I had...        \n",
       "3  Making somebody happy is a question of give an...        \n",
       "4  Making somebody happy is a question of give an...        "
      ]
     },
     "execution_count": 16,
     "metadata": {},
     "output_type": "execute_result"
    }
   ],
   "source": [
    "df.head()"
   ]
  },
  {
   "cell_type": "code",
   "execution_count": 17,
   "metadata": {},
   "outputs": [],
   "source": [
    "import spotipy\n",
    "from spotipy.oauth2 import SpotifyClientCredentials\n",
    "\n",
    "def get_artist_genre(client_id, client_secret, artist_name):\n",
    "    # Set up Spotify API credentials\n",
    "    client_credentials_manager = SpotifyClientCredentials(client_id=client_id, client_secret=client_secret)\n",
    "    sp = spotipy.Spotify(client_credentials_manager=client_credentials_manager)\n",
    "\n",
    "    # Search for the artist\n",
    "    results = sp.search(q=artist_name, type='artist', limit=1)\n",
    "\n",
    "    # Check if there are search results\n",
    "    if results['artists']['items']:\n",
    "        artist_genres = results['artists']['items'][0]['genres']\n",
    "        return artist_genres\n",
    "    else:\n",
    "        return []\n",
    "    \n",
    "client_id = os.getenv('SPOTIFY_CLIENT_ID')\n",
    "client_secret = os.getenv('SPOTIFY_CLIENT_SECRET')\n"
   ]
  },
  {
   "cell_type": "code",
   "execution_count": 18,
   "metadata": {},
   "outputs": [],
   "source": [
    "artist_set = df['artist'].unique()\n",
    "\n",
    "for artist in artist_set:\n",
    "    artist_genres = get_artist_genre(client_id, client_secret, artist)\n",
    "    rows = df.loc[df['artist'] == artist]\n",
    "    for index, row in rows.iterrows():\n",
    "        df.at[index, 'genre'] = artist_genres"
   ]
  },
  {
   "cell_type": "code",
   "execution_count": 19,
   "metadata": {},
   "outputs": [
    {
     "name": "stdout",
     "output_type": "stream",
     "text": [
      "0\n"
     ]
    }
   ],
   "source": [
    "count = 0\n",
    "for index, row in df.iterrows():\n",
    "  if row['genre'] == '':\n",
    "    count += 1\n",
    "print(count)\n",
    "  "
   ]
  },
  {
   "cell_type": "code",
   "execution_count": 20,
   "metadata": {},
   "outputs": [
    {
     "data": {
      "text/html": [
       "<div>\n",
       "<style scoped>\n",
       "    .dataframe tbody tr th:only-of-type {\n",
       "        vertical-align: middle;\n",
       "    }\n",
       "\n",
       "    .dataframe tbody tr th {\n",
       "        vertical-align: top;\n",
       "    }\n",
       "\n",
       "    .dataframe thead th {\n",
       "        text-align: right;\n",
       "    }\n",
       "</style>\n",
       "<table border=\"1\" class=\"dataframe\">\n",
       "  <thead>\n",
       "    <tr style=\"text-align: right;\">\n",
       "      <th></th>\n",
       "      <th>artist</th>\n",
       "      <th>song</th>\n",
       "      <th>link</th>\n",
       "      <th>text</th>\n",
       "      <th>genre</th>\n",
       "    </tr>\n",
       "  </thead>\n",
       "  <tbody>\n",
       "    <tr>\n",
       "      <th>0</th>\n",
       "      <td>ABBA</td>\n",
       "      <td>Ahe's My Kind Of Girl</td>\n",
       "      <td>/a/abba/ahes+my+kind+of+girl_20598417.html</td>\n",
       "      <td>Look at her face, it's a wonderful face  \\r\\nA...</td>\n",
       "      <td>[europop, swedish pop]</td>\n",
       "    </tr>\n",
       "    <tr>\n",
       "      <th>1</th>\n",
       "      <td>ABBA</td>\n",
       "      <td>Andante, Andante</td>\n",
       "      <td>/a/abba/andante+andante_20002708.html</td>\n",
       "      <td>Take it easy with me, please  \\r\\nTouch me gen...</td>\n",
       "      <td>[europop, swedish pop]</td>\n",
       "    </tr>\n",
       "    <tr>\n",
       "      <th>2</th>\n",
       "      <td>ABBA</td>\n",
       "      <td>As Good As New</td>\n",
       "      <td>/a/abba/as+good+as+new_20003033.html</td>\n",
       "      <td>I'll never know why I had to go  \\r\\nWhy I had...</td>\n",
       "      <td>[europop, swedish pop]</td>\n",
       "    </tr>\n",
       "    <tr>\n",
       "      <th>3</th>\n",
       "      <td>ABBA</td>\n",
       "      <td>Bang</td>\n",
       "      <td>/a/abba/bang_20598415.html</td>\n",
       "      <td>Making somebody happy is a question of give an...</td>\n",
       "      <td>[europop, swedish pop]</td>\n",
       "    </tr>\n",
       "    <tr>\n",
       "      <th>4</th>\n",
       "      <td>ABBA</td>\n",
       "      <td>Bang-A-Boomerang</td>\n",
       "      <td>/a/abba/bang+a+boomerang_20002668.html</td>\n",
       "      <td>Making somebody happy is a question of give an...</td>\n",
       "      <td>[europop, swedish pop]</td>\n",
       "    </tr>\n",
       "  </tbody>\n",
       "</table>\n",
       "</div>"
      ],
      "text/plain": [
       "  artist                   song                                        link  \\\n",
       "0   ABBA  Ahe's My Kind Of Girl  /a/abba/ahes+my+kind+of+girl_20598417.html   \n",
       "1   ABBA       Andante, Andante       /a/abba/andante+andante_20002708.html   \n",
       "2   ABBA         As Good As New        /a/abba/as+good+as+new_20003033.html   \n",
       "3   ABBA                   Bang                  /a/abba/bang_20598415.html   \n",
       "4   ABBA       Bang-A-Boomerang      /a/abba/bang+a+boomerang_20002668.html   \n",
       "\n",
       "                                                text                   genre  \n",
       "0  Look at her face, it's a wonderful face  \\r\\nA...  [europop, swedish pop]  \n",
       "1  Take it easy with me, please  \\r\\nTouch me gen...  [europop, swedish pop]  \n",
       "2  I'll never know why I had to go  \\r\\nWhy I had...  [europop, swedish pop]  \n",
       "3  Making somebody happy is a question of give an...  [europop, swedish pop]  \n",
       "4  Making somebody happy is a question of give an...  [europop, swedish pop]  "
      ]
     },
     "execution_count": 20,
     "metadata": {},
     "output_type": "execute_result"
    }
   ],
   "source": [
    "df.head()"
   ]
  },
  {
   "cell_type": "code",
   "execution_count": 21,
   "metadata": {},
   "outputs": [],
   "source": [
    "df = df[df['genre'].apply(lambda x: len(x) > 0)]"
   ]
  },
  {
   "cell_type": "code",
   "execution_count": 22,
   "metadata": {},
   "outputs": [],
   "source": [
    "genres = df['genre'].explode().unique()"
   ]
  },
  {
   "cell_type": "code",
   "execution_count": 47,
   "metadata": {},
   "outputs": [
    {
     "name": "stdout",
     "output_type": "stream",
     "text": [
      "Stand up! oechyeodo gyeolgugen dabeun no  \n",
      "Buseojin nae mamui jogagi banjjakbanjjak hae  \n",
      "Ppajyeodeureossgo chulguttawin eopseossgo  \n",
      "Gyeolgugen je jari tto gireul ilheoga nan  \n",
      "Taneun jeo haega jyeo geureohge neoneun deouk nunbusyeo  \n",
      "Eoneusae nan nuni meoreobeoryeo  \n",
      "Nae ape taoreuneun bulgiljocha boiji anha  \n",
      "Cheoncheonhi tadeureoga  \n",
      "  \n",
      "I modeun geon kkum neon janinhan Queen  \n",
      "Geu areumdaum dwi gasi gamchwosseuni  \n",
      "Dangerous dangerous she's so dangerous  \n",
      "Kkaeji anhneun kkum geu aneseo pin  \n",
      "Gin oeroumeul kkeokkgoseo naragari  \n",
      "Exodus exodus it's my Exodus  \n",
      "  \n",
      "Step back! oechyeodo nae mamui domino  \n",
      "Sseureojyeo ganeunde neon gogael kkadakkkattak hae  \n",
      "Deoneun mwol haedo doedollil su eopseossgo  \n",
      "Gipeojin hansume nan himi ppajyeoga girl  \n",
      "Meorissok neoneun shock eodireul gado nega deullyeowa  \n",
      "Eoneusae nan gwido meoreobeoryeo  \n",
      "Geu mueol malhaedo neobakkeneun deulliji anha  \n",
      "Teum eopsi sarojaphyeo  \n",
      "  \n",
      "I modeungeon kkum neon janinhan Queen  \n",
      "Geu areumdaum dwi gasi gamchwosseuni  \n",
      "Dangerous dangerous she's so dangerous  \n",
      "Kkaeji anhneun kkum geu aneseo pin  \n",
      "Gin oeroumeul kkeokkgoseo naragari  \n",
      "Exodus exodus it's my Exodus  \n",
      "  \n",
      "Neon tumyeonghan yuriui seongbyeok  \n",
      "Boseokcheoreom biccnada ne ane nareul gadwo  \n",
      "Neoege michin nan ireoda michyeo  \n",
      "Pihaji moshal byeonge geollyeo  \n",
      "She's dangerously hot  \n",
      "  \n",
      "Ne dalkomhan pum nan nayakhan king  \n",
      "Neo anin modeun geol jeonbu ilheosseuni  \n",
      "Dangerous dangerous she's so dangerous  \n",
      "Nal gadun ne pum jeo neomeoui gil  \n",
      "Geu bicceul hyanghae nan neoreul talchulhari  \n",
      "Exodus exodus it's my Exodus\n",
      "\n"
     ]
    }
   ],
   "source": [
    "text_variable = '''Stand up! oechyeodo gyeolgugen dabeun no  \n",
    "Buseojin nae mamui jogagi banjjakbanjjak hae  \n",
    "Ppajyeodeureossgo chulguttawin eopseossgo  \n",
    "Gyeolgugen je jari tto gireul ilheoga nan  \n",
    "Taneun jeo haega jyeo geureohge neoneun deouk nunbusyeo  \n",
    "Eoneusae nan nuni meoreobeoryeo  \n",
    "Nae ape taoreuneun bulgiljocha boiji anha  \n",
    "Cheoncheonhi tadeureoga  \n",
    "  \n",
    "I modeun geon kkum neon janinhan Queen  \n",
    "Geu areumdaum dwi gasi gamchwosseuni  \n",
    "Dangerous dangerous she's so dangerous  \n",
    "Kkaeji anhneun kkum geu aneseo pin  \n",
    "Gin oeroumeul kkeokkgoseo naragari  \n",
    "Exodus exodus it's my Exodus  \n",
    "  \n",
    "Step back! oechyeodo nae mamui domino  \n",
    "Sseureojyeo ganeunde neon gogael kkadakkkattak hae  \n",
    "Deoneun mwol haedo doedollil su eopseossgo  \n",
    "Gipeojin hansume nan himi ppajyeoga girl  \n",
    "Meorissok neoneun shock eodireul gado nega deullyeowa  \n",
    "Eoneusae nan gwido meoreobeoryeo  \n",
    "Geu mueol malhaedo neobakkeneun deulliji anha  \n",
    "Teum eopsi sarojaphyeo  \n",
    "  \n",
    "I modeungeon kkum neon janinhan Queen  \n",
    "Geu areumdaum dwi gasi gamchwosseuni  \n",
    "Dangerous dangerous she's so dangerous  \n",
    "Kkaeji anhneun kkum geu aneseo pin  \n",
    "Gin oeroumeul kkeokkgoseo naragari  \n",
    "Exodus exodus it's my Exodus  \n",
    "  \n",
    "Neon tumyeonghan yuriui seongbyeok  \n",
    "Boseokcheoreom biccnada ne ane nareul gadwo  \n",
    "Neoege michin nan ireoda michyeo  \n",
    "Pihaji moshal byeonge geollyeo  \n",
    "She's dangerously hot  \n",
    "  \n",
    "Ne dalkomhan pum nan nayakhan king  \n",
    "Neo anin modeun geol jeonbu ilheosseuni  \n",
    "Dangerous dangerous she's so dangerous  \n",
    "Nal gadun ne pum jeo neomeoui gil  \n",
    "Geu bicceul hyanghae nan neoreul talchulhari  \n",
    "Exodus exodus it's my Exodus\n",
    "'''\n",
    "\n",
    "# Now, you can use the 'text_variable' variable in your Python code\n",
    "print(text_variable)\n"
   ]
  },
  {
   "cell_type": "code",
   "execution_count": 23,
   "metadata": {},
   "outputs": [],
   "source": [
    "import langid\n",
    "\n",
    "def detect_language(text):\n",
    "    # Returns a tuple containing the language code and the confidence\n",
    "    lang, confidence = langid.classify(text)\n",
    "    return lang == 'en'\n",
    "\n",
    "# Example usage\n",
    "text_to_check = \"This is a sample text in English.\""
   ]
  },
  {
   "cell_type": "code",
   "execution_count": 24,
   "metadata": {},
   "outputs": [
    {
     "name": "stdout",
     "output_type": "stream",
     "text": [
      "56541\n"
     ]
    }
   ],
   "source": [
    "print(len(df))"
   ]
  },
  {
   "cell_type": "code",
   "execution_count": 25,
   "metadata": {},
   "outputs": [],
   "source": [
    "df = df[df['text'].apply(lambda x: detect_language(x))]"
   ]
  },
  {
   "cell_type": "code",
   "execution_count": 26,
   "metadata": {},
   "outputs": [
    {
     "name": "stdout",
     "output_type": "stream",
     "text": [
      "56102\n"
     ]
    }
   ],
   "source": [
    "print(len(df))"
   ]
  },
  {
   "cell_type": "code",
   "execution_count": 27,
   "metadata": {},
   "outputs": [
    {
     "name": "stdout",
     "output_type": "stream",
     "text": [
      "['europop' 'swedish pop' 'eurodance' 'new wave pop' 'comic' 'british soul'\n",
      " 'pop' 'pop soul' 'uk pop' 'album rock' 'classic rock' 'hard rock' 'rock'\n",
      " 'soft rock' 'opm' 'contemporary country' 'country' 'country road'\n",
      " 'country rock' 'art rock' 'mellow gold' 'progressive rock'\n",
      " 'symphonic rock' 'operatic pop' 'detroit rock' 'glam metal' 'glam rock'\n",
      " 'metal' 'protopunk' 'alternative metal' 'alternative rock' 'grunge'\n",
      " 'nu metal' 'bluegrass' 'folk' 'progressive bluegrass' 'blues rock'\n",
      " 'folk rock' 'heartland rock' 'jam band' 'singer-songwriter'\n",
      " 'southern rock' 'new romantic' 'synthpop' 'christian music'\n",
      " 'classical tenor' 'italian tenor' 'adult standards' 'easy listening'\n",
      " 'new wave' 'classic opm' 'geek folk' 'geek rock' 'kingston on indie'\n",
      " 'canadian pop' 'candy pop' 'dance pop' 'boy band' 'baroque pop'\n",
      " 'psychedelic rock' 'sunshine pop' 'british invasion' 'merseybeat'\n",
      " 'britpop' 'melancholia' 'sophisti-pop' 'movie tunes' 'disco'\n",
      " 'classic soul' 'funk' 'quiet storm' 'soul' 'harlem renaissance' 'jazz'\n",
      " 'jazz blues' 'swing' 'torch song' 'vocal jazz' 'piano rock' 'lounge'\n",
      " 'birmingham metal' 'stoner rock' 'uk doom metal' 'madchester'\n",
      " 'permanent wave' 'roots rock' 'reggae' 'roots reggae' 'parody'\n",
      " 'electric blues' 'classic oklahoma country' 'pop rock' 'post-grunge'\n",
      " 'sacramento indie' 'british folk' 'neo soul' 'beatlesque' 'power pop'\n",
      " 'yacht rock' 'finnish death metal' 'finnish melodeath' 'groove metal'\n",
      " 'melodic death metal' 'power metal' 'speed metal' 'r&b' 'rap' 'celtic'\n",
      " 'irish folk' 'irish rock' 'blues' 'rock-and-roll' 'rockabilly' 'punk'\n",
      " 'tin pan alley' 'arkansas country' 'classic country pop' 'neo mellow'\n",
      " 'swamp rock' 'australian rock' 'outlaw country' 'big room' 'edm'\n",
      " 'pop dance' 'death metal' 'dissonant death metal' 'florida death metal'\n",
      " 'technical death metal' 'nwobhm' 'post-teen pop' 'dance rock' 'art punk'\n",
      " 'post-punk' 'synth punk' 'zolo' 'classic indonesian rock'\n",
      " 'indonesian pop' 'indonesian rock' 'motown' 'desi hip hop' 'desi trap'\n",
      " 'hindi hip hop' 'country dawn' 'classic praise' 'messianic praise'\n",
      " 'tagalog worship' 'world worship' 'hi-nrg' 'acid rock' 'canadian hip hop'\n",
      " 'hip hop' 'pop rap' 'progressive metal' 'singer-songwriter pop'\n",
      " 'indietronica' 'metropopolis' 'detroit hip hop' 'lilith' 'downtempo'\n",
      " 'gregorian dance' 'latin pop' 'mexican pop' 'middle earth'\n",
      " 'classic finnish rock' 'finnish new wave' 'suomi rock' 'soul blues'\n",
      " 'swedish hard rock' 'swedish melodic rock' 'k-pop' 'k-pop boy group'\n",
      " 'funk metal' 'gangster rap' 'trap' 'urban contemporary' 'ska'\n",
      " 'skate punk' 'funk rock' 'rap metal' 'austropop' 'neue deutsche welle'\n",
      " 'emo' 'modern rock' 'big beat' 'electronica' 'girl group' 'talent show'\n",
      " 'art pop' 'chamber pop' 'dark pop' 'miami hip hop' 'experimental'\n",
      " 'instrumental rock' 'jazz fusion' 'jazz rock' 'cowboy western'\n",
      " 'bubblegum pop' 'doo-wop' 'northern soul' 'acoustic blues' 'texas blues'\n",
      " 'traditional blues' 'british blues' 'bass music' 'freestyle' 'miami bass'\n",
      " 'papuri' 'pinoy praise' 'british comedy' 'music hall' 'honky tonk'\n",
      " 'classic canadian rock' 'flamenco' 'rumba' 'world' 'glee club'\n",
      " 'nashville sound' 'canadian country' 'canadian singer-songwriter'\n",
      " 'cosmic american' 'canadian celtic' 'canadian rock' 'celtic rock'\n",
      " 'nl folk' 'atl hip hop' 'dirty south rap' 'southern hip hop'\n",
      " 'alternative pop' 'dayton indie' 'gbvfi' 'indie rock' 'lo-fi'\n",
      " 'modern power pop' 'noise pop' 'ohio indie' 'tape club' 'halloween'\n",
      " 'western swing' 'calypso' 'contemporary vocal jazz' 'german metal'\n",
      " 'german power metal' 'old school thrash' 'symphonic metal' 'thrash metal'\n",
      " 'ccm' 'worship' 'dark rock' 'finnish alternative rock' 'gothic metal'\n",
      " 'trip hop' 'pub rock' 'conscious hip hop' 'g funk' 'west coast rap'\n",
      " 'broadway' 'hollywood' 'show tunes' 'deep christian rock'\n",
      " 'jesus movement' 'acid jazz' 'brit funk' 'modern funk'\n",
      " 'apostolic worship' 'ectofolk' \"women's music\" 'acoustic pop'\n",
      " 'romanian house' 'romanian pop' 'rap rock' 'proto-metal' 'gospel'\n",
      " 'north carolina hip hop' 'mod revival' 'trop rock' 'psychedelic folk'\n",
      " 'new americana' 'uk post-punk' 'chicago rap' 'christian alternative rock'\n",
      " 'australian country' 'australian pop' 'modern country rock'\n",
      " 'danish metal' 'gospel r&b' 'uk funky' 'australian dance'\n",
      " 'alternative r&b' 'new jersey rap' 'new orleans rap' 'chicago blues'\n",
      " 'harmonica blues' 'louisiana blues' 'east coast hip hop'\n",
      " 'golden age hip hop' 'old school hip hop' 'queens hip hop' 'nz pop'\n",
      " 'dixieland' 'jazz trumpet' 'new orleans jazz' 'big band'\n",
      " 'rhythm and blues' 'african reggae' 'comic metal' 'us power metal'\n",
      " 'neo-progressive' 'industrial' 'industrial metal' 'industrial rock'\n",
      " 'dream pop' 'shoegaze' 'slowcore' 'melodic thrash' 'jazz pop'\n",
      " 'horror punk' 'new jersey hardcore' 'new jersey punk' 'flute rock'\n",
      " 'solo wave' 'brill building pop' 'hip pop' 'fantasy metal'\n",
      " 'finnish metal' 'finnish power metal' 'gothic symphonic metal'\n",
      " 'opera metal' 'soul jazz' 'cyberpunk' 'electronic rock' 'pov: indie'\n",
      " 'socal pop punk' 'hardcore hip hop' 'moldovan pop' 'classic israeli pop'\n",
      " 'israeli singer-songwriter' 'mizrahi' 'alternative country'\n",
      " 'dallas indie' 'modern country pop' 'progressive death metal'\n",
      " 'swedish metal' 'swedish progressive metal' 'christian power metal'\n",
      " 'folk metal' 'israeli metal' 'oriental metal' 'memphis soul'\n",
      " 'southern soul' 'old school atlanta hip hop' 'folk-pop' 'rock drums'\n",
      " 'celtic punk' 'folk punk' 'minneapolis sound' 'synth funk'\n",
      " 'scottish rock' 'medieval folk' 'neue deutsche todeskunst' 'rune folk'\n",
      " 'icelandic hip hop' 'icelandic rock' 'alternative hip hop'\n",
      " 'psychedelic hip hop' 'slayer' 'palm desert scene' 'stoner metal' 'nyhc'\n",
      " 'post-hardcore' 'classic garage rock' 'neon pop punk' 'pixie' 'pop punk'\n",
      " 'oxford indie' \"canadian children's music\" \"children's folk\"\n",
      " \"children's music\" 'political hip hop' 'neue deutsche harte'\n",
      " 'early us punk' 'country gospel' 'piano blues' 'afrobeats' 'nigerian pop'\n",
      " 'barbadian pop' 'canadian metal' 'mexican classic rock'\n",
      " 'german hard rock' 'german rock' 'reggae fusion' 'ska mexicano'\n",
      " 'ska punk' 'chicago punk' 'orgcore' 'canadian contemporary r&b'\n",
      " 'classic texas country' 'ontario indie' 'slap house' 'uk reggae'\n",
      " 'bronx hip hop' 'christian metal' 'christian metalcore'\n",
      " 'melodic metalcore' 'metalcore' 'screamo' 'tampa indie' 'boston metal'\n",
      " 'deathcore' 'indie soul' 'kiwi rock' 'neo-psychedelic' 'portland hip hop'\n",
      " 'psychedelic pop' 'noise rock' 'post-doom metal' 'post-metal'\n",
      " 'sludge metal' 'contemporary r&b' 'south carolina hip hop' 'anime'\n",
      " 'classic j-pop' 'j-pop' 'japanese singer-songwriter' 'synthesizer'\n",
      " 'bubblegum dance' 'black metal' 'black thrash' 'british black metal'\n",
      " 'riot grrrl' 'acoustic punk' 'dancehall' 'jamaican dancehall'\n",
      " 'modern alternative rock' 'scottish new wave' 'comedy rock' 'garage rock'\n",
      " 'modern blues rock' 'punk blues' 'athens indie' 'dutch metal'\n",
      " 'pittsburgh rap' 'rap kreyol' 'emo rap' 'japanese heavy metal'\n",
      " 'japanese power metal' 'visual kei' 'hyphy' 'sacramento hip hop'\n",
      " 'black punk' 'german pop' 'australian indie folk'\n",
      " 'australian reggae fusion' 'bay area indie' 'experimental pop'\n",
      " 'experimental rock' 'grave wave' 'alternative dance' 'dance-punk'\n",
      " 'neo-synthpop' 'new rave' 'alabama rap' 'cali rap' 'crunk' 'metal guitar'\n",
      " 'neo classical metal' 'shred' 'memphis hip hop' 'tennessee hip hop'\n",
      " 'new jersey indie' 'banjo' 'jamgrass' 'string band'\n",
      " 'australian alternative rock' 'nashville hip hop' 'futuristic swag'\n",
      " 'connecticut hardcore' 'hardcore' 'straight edge' 'vegan straight edge'\n",
      " 'oakland hip hop' 'chopped and screwed' 'houston rap' 'southern metal'\n",
      " 'christian hardcore' 'west virginia metal' 'complextro' 'german techno'\n",
      " 'latin alternative' 'latin rock' 'mexican rock' 'morelos indie'\n",
      " 'rock en espanol' 'belgian rock' 'italian adult pop' 'italian pop rock'\n",
      " 'kundiman' 'italian progressive rock']\n"
     ]
    }
   ],
   "source": [
    "genres = df['genre'].explode().unique()\n",
    "print(genres)"
   ]
  },
  {
   "cell_type": "code",
   "execution_count": 54,
   "metadata": {},
   "outputs": [],
   "source": [
    "def genre_list_to_genre(genre_list):\n",
    "  for genre in genre_list:\n",
    "    if 'rock' in genre or 'metal' in genre or 'punk' in genre:\n",
    "      return 'rock'\n",
    "    elif 'hip hop' in genre or 'rap' in genre:\n",
    "      return 'hip hop'\n",
    "    elif 'indie' in genre or 'alternative' in genre or 'folk' in genre:\n",
    "      return 'indie'\n",
    "    elif 'jazz' in genre or 'blues' in genre:\n",
    "      return 'jazz'\n",
    "    elif 'country' in genre or 'bluegrass' in genre:\n",
    "      return 'country'\n",
    "    elif 'pop' in genre:\n",
    "      return 'pop'"
   ]
  },
  {
   "cell_type": "code",
   "execution_count": 51,
   "metadata": {},
   "outputs": [],
   "source": [
    "saved_data = df.copy()"
   ]
  },
  {
   "cell_type": "code",
   "execution_count": 55,
   "metadata": {},
   "outputs": [],
   "source": [
    "df['generic_genre'] = ''"
   ]
  },
  {
   "cell_type": "code",
   "execution_count": 56,
   "metadata": {},
   "outputs": [],
   "source": [
    "for index, row in df.iterrows():\n",
    "  genre_list = row['genre']\n",
    "  df.at[index, 'generic_genre'] = genre_list_to_genre(genre_list)"
   ]
  },
  {
   "cell_type": "code",
   "execution_count": null,
   "metadata": {},
   "outputs": [],
   "source": [
    "print(len(df))\n",
    "count = 0 \n",
    "for index, row in df.iterrows():\n",
    "  if row['generic_genre'] == None:\n",
    "    count += 1\n",
    "print(count)\n"
   ]
  },
  {
   "cell_type": "code",
   "execution_count": 59,
   "metadata": {},
   "outputs": [],
   "source": [
    "for index, row in df.iterrows():\n",
    "  if row['generic_genre'] == None:\n",
    "    df.drop(index, inplace=True)"
   ]
  },
  {
   "cell_type": "code",
   "execution_count": 60,
   "metadata": {},
   "outputs": [
    {
     "name": "stdout",
     "output_type": "stream",
     "text": [
      "50617\n"
     ]
    }
   ],
   "source": [
    "print(len(df))"
   ]
  },
  {
   "cell_type": "markdown",
   "metadata": {},
   "source": [
    "# Save the Data to CSV"
   ]
  },
  {
   "cell_type": "code",
   "execution_count": 61,
   "metadata": {},
   "outputs": [],
   "source": [
    "df.to_csv('processed_data.csv', index=False)"
   ]
  }
 ],
 "metadata": {
  "kernelspec": {
   "display_name": "Python 3",
   "language": "python",
   "name": "python3"
  },
  "language_info": {
   "codemirror_mode": {
    "name": "ipython",
    "version": 3
   },
   "file_extension": ".py",
   "mimetype": "text/x-python",
   "name": "python",
   "nbconvert_exporter": "python",
   "pygments_lexer": "ipython3",
   "version": "3.11.5"
  }
 },
 "nbformat": 4,
 "nbformat_minor": 2
}
