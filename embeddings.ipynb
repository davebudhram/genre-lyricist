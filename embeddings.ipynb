{
 "cells": [
  {
   "cell_type": "code",
   "execution_count": 18,
   "metadata": {},
   "outputs": [
    {
     "name": "stderr",
     "output_type": "stream",
     "text": [
      "[nltk_data] Downloading package punkt to\n",
      "[nltk_data]     /Users/davebudhram/nltk_data...\n",
      "[nltk_data]   Package punkt is already up-to-date!\n"
     ]
    }
   ],
   "source": [
    "import pandas as pd\n",
    "import nltk\n",
    "import csv\n",
    "download = nltk.download('punkt')\n",
    "# for word embeddings\n",
    "from gensim.models import Word2Vec"
   ]
  },
  {
   "cell_type": "code",
   "execution_count": 40,
   "metadata": {},
   "outputs": [],
   "source": [
    "TRAIN_FILE = 'processed_data.csv'\n",
    "EMBEDDING_LYRICS_SAVE_FILE = 'lyrics_embeddings.txt'\n",
    "EMBEDDING_GENRE_SAVE_FILE = 'genre_embeddings.txt'\n",
    "EMBEDDINGS_SIZE = 100\n",
    "N_GRAM = 5\n",
    "SENTENCE_BEGIN = '<s>'\n",
    "SENTENCE_END = '</s>'"
   ]
  },
  {
   "cell_type": "code",
   "execution_count": 33,
   "metadata": {},
   "outputs": [],
   "source": [
    "def my_tokenize_line(line, genre, ngram=N_GRAM):\n",
    "  result = []\n",
    "  sentences = line.split('\\r\\n')\n",
    "  for sentence in sentences:\n",
    "    begining = [SENTENCE_BEGIN] * (ngram-1)\n",
    "    end = [SENTENCE_END] * (ngram-1)\n",
    "    tokens = begining + nltk.word_tokenize(sentence) + end\n",
    "    tokens = (genre, tokens)\n",
    "    result.append(tokens)\n",
    "  return result\n",
    "\n",
    "def my_tokenize_line2(line, genre, ngram=N_GRAM):\n",
    "  result = []\n",
    "  sentences = line.split('\\r\\n')\n",
    "  for sentence in sentences:\n",
    "    begining = [SENTENCE_BEGIN] * (ngram-1)\n",
    "    end = [SENTENCE_END] * (ngram-1)\n",
    "    tokens = begining + nltk.word_tokenize(sentence) + end\n",
    "    # tokens = [(genre, word) for word in tokens]\n",
    "    result.append(tokens)\n",
    "  return result"
   ]
  },
  {
   "cell_type": "code",
   "execution_count": 34,
   "metadata": {},
   "outputs": [
    {
     "name": "stdout",
     "output_type": "stream",
     "text": [
      "['<s>', '<s>', '<s>', '<s>', 'Look', 'at', 'her', 'face', ',', 'it', \"'s\", 'a', 'wonderful', 'face', '</s>', '</s>', '</s>', '</s>']\n"
     ]
    }
   ],
   "source": [
    "df = pd.read_csv(TRAIN_FILE)\n",
    "df.head()\n",
    "data_lyrics = df['text'].tolist()\n",
    "data_genre = df['generic_genre'].tolist()\n",
    "data = []\n",
    "for song, genre in zip(data_lyrics, data_genre):\n",
    "  data.extend(my_tokenize_line2(song, genre))\n",
    "print(data[0])\n",
    "\n",
    "\n",
    "\n"
   ]
  },
  {
   "cell_type": "code",
   "execution_count": 36,
   "metadata": {},
   "outputs": [],
   "source": [
    "model_word = Word2Vec(sentences=data, vector_size=EMBEDDINGS_SIZE , window=5, min_count=1)"
   ]
  },
  {
   "cell_type": "code",
   "execution_count": 44,
   "metadata": {},
   "outputs": [],
   "source": [
    "unique_genres = df['generic_genre'].unique().tolist()\n",
    "genre_model = Word2Vec(sentences=unique_genres , vector_size=EMBEDDINGS_SIZE , window=5, min_count=1)"
   ]
  },
  {
   "cell_type": "code",
   "execution_count": 42,
   "metadata": {},
   "outputs": [],
   "source": [
    "model_word.wv.save_word2vec_format(EMBEDDING_LYRICS_SAVE_FILE, binary=False)"
   ]
  },
  {
   "cell_type": "code",
   "execution_count": 46,
   "metadata": {},
   "outputs": [],
   "source": [
    "genre_model.wv.save_word2vec_format(EMBEDDING_GENRE_SAVE_FILE, binary=False)"
   ]
  },
  {
   "cell_type": "code",
   "execution_count": 47,
   "metadata": {},
   "outputs": [
    {
     "name": "stdout",
     "output_type": "stream",
     "text": [
      "['pop', 'rock', 'country', 'indie', 'jazz', 'hip hop']\n"
     ]
    }
   ],
   "source": [
    "print(unique_genres)"
   ]
  }
 ],
 "metadata": {
  "kernelspec": {
   "display_name": "Python 3",
   "language": "python",
   "name": "python3"
  },
  "language_info": {
   "codemirror_mode": {
    "name": "ipython",
    "version": 3
   },
   "file_extension": ".py",
   "mimetype": "text/x-python",
   "name": "python",
   "nbconvert_exporter": "python",
   "pygments_lexer": "ipython3",
   "version": "3.11.5"
  }
 },
 "nbformat": 4,
 "nbformat_minor": 2
}
