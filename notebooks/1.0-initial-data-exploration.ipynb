{
 "cells": [
  {
   "cell_type": "markdown",
   "metadata": {},
   "source": [
    "# 1.0 Initial Data Exploration"
   ]
  },
  {
   "cell_type": "markdown",
   "metadata": {},
   "source": [
    "#### Load in Spotify client_id and client_secret"
   ]
  },
  {
   "cell_type": "code",
   "execution_count": 21,
   "metadata": {},
   "outputs": [],
   "source": [
    "import os\n",
    "from dotenv import load_dotenv, dotenv_values\n",
    "import matplotlib.pyplot as plt\n",
    "from utils import tokenize_song_by_stanza\n",
    "import random\n",
    "\n",
    "# Load existing environment variables\n",
    "load_dotenv()\n",
    "\n",
    "client_id = os.getenv('SPOTIFY_CLIENT_ID')\n",
    "client_secret = os.getenv('SPOTIFY_CLIENT_SECRET')"
   ]
  },
  {
   "cell_type": "markdown",
   "metadata": {},
   "source": [
    "### Read Spotify Dataset"
   ]
  },
  {
   "cell_type": "code",
   "execution_count": 22,
   "metadata": {},
   "outputs": [
    {
     "data": {
      "text/html": [
       "<div>\n",
       "<style scoped>\n",
       "    .dataframe tbody tr th:only-of-type {\n",
       "        vertical-align: middle;\n",
       "    }\n",
       "\n",
       "    .dataframe tbody tr th {\n",
       "        vertical-align: top;\n",
       "    }\n",
       "\n",
       "    .dataframe thead th {\n",
       "        text-align: right;\n",
       "    }\n",
       "</style>\n",
       "<table border=\"1\" class=\"dataframe\">\n",
       "  <thead>\n",
       "    <tr style=\"text-align: right;\">\n",
       "      <th></th>\n",
       "      <th>artist</th>\n",
       "      <th>song</th>\n",
       "      <th>link</th>\n",
       "      <th>text</th>\n",
       "      <th>genre_list</th>\n",
       "    </tr>\n",
       "  </thead>\n",
       "  <tbody>\n",
       "    <tr>\n",
       "      <th>0</th>\n",
       "      <td>ABBA</td>\n",
       "      <td>Ahe's My Kind Of Girl</td>\n",
       "      <td>/a/abba/ahes+my+kind+of+girl_20598417.html</td>\n",
       "      <td>Look at her face, it's a wonderful face  \\r\\nA...</td>\n",
       "      <td>[]</td>\n",
       "    </tr>\n",
       "    <tr>\n",
       "      <th>1</th>\n",
       "      <td>ABBA</td>\n",
       "      <td>Andante, Andante</td>\n",
       "      <td>/a/abba/andante+andante_20002708.html</td>\n",
       "      <td>Take it easy with me, please  \\r\\nTouch me gen...</td>\n",
       "      <td>[]</td>\n",
       "    </tr>\n",
       "    <tr>\n",
       "      <th>2</th>\n",
       "      <td>ABBA</td>\n",
       "      <td>As Good As New</td>\n",
       "      <td>/a/abba/as+good+as+new_20003033.html</td>\n",
       "      <td>I'll never know why I had to go  \\r\\nWhy I had...</td>\n",
       "      <td>[]</td>\n",
       "    </tr>\n",
       "    <tr>\n",
       "      <th>3</th>\n",
       "      <td>ABBA</td>\n",
       "      <td>Bang</td>\n",
       "      <td>/a/abba/bang_20598415.html</td>\n",
       "      <td>Making somebody happy is a question of give an...</td>\n",
       "      <td>[]</td>\n",
       "    </tr>\n",
       "    <tr>\n",
       "      <th>4</th>\n",
       "      <td>ABBA</td>\n",
       "      <td>Bang-A-Boomerang</td>\n",
       "      <td>/a/abba/bang+a+boomerang_20002668.html</td>\n",
       "      <td>Making somebody happy is a question of give an...</td>\n",
       "      <td>[]</td>\n",
       "    </tr>\n",
       "  </tbody>\n",
       "</table>\n",
       "</div>"
      ],
      "text/plain": [
       "  artist                   song                                        link  \\\n",
       "0   ABBA  Ahe's My Kind Of Girl  /a/abba/ahes+my+kind+of+girl_20598417.html   \n",
       "1   ABBA       Andante, Andante       /a/abba/andante+andante_20002708.html   \n",
       "2   ABBA         As Good As New        /a/abba/as+good+as+new_20003033.html   \n",
       "3   ABBA                   Bang                  /a/abba/bang_20598415.html   \n",
       "4   ABBA       Bang-A-Boomerang      /a/abba/bang+a+boomerang_20002668.html   \n",
       "\n",
       "                                                text genre_list  \n",
       "0  Look at her face, it's a wonderful face  \\r\\nA...         []  \n",
       "1  Take it easy with me, please  \\r\\nTouch me gen...         []  \n",
       "2  I'll never know why I had to go  \\r\\nWhy I had...         []  \n",
       "3  Making somebody happy is a question of give an...         []  \n",
       "4  Making somebody happy is a question of give an...         []  "
      ]
     },
     "execution_count": 22,
     "metadata": {},
     "output_type": "execute_result"
    }
   ],
   "source": [
    "# Read the data\n",
    "import pandas as pd\n",
    "df = pd.read_csv('../data/raw/spotify_millsongdata.csv')\n",
    "# Add genre_list column\n",
    "df['genre_list'] = [[]] * len(df)\n",
    "df.head()"
   ]
  },
  {
   "cell_type": "markdown",
   "metadata": {},
   "source": [
    "#### Get genres of artist from Spotify API and add to each song of artist"
   ]
  },
  {
   "cell_type": "code",
   "execution_count": 23,
   "metadata": {},
   "outputs": [],
   "source": [
    "import spotipy\n",
    "from spotipy.oauth2 import SpotifyClientCredentials\n",
    "\n",
    "def get_artist_genre(client_id, client_secret, artist_name):\n",
    "    # Set up Spotify API credentials\n",
    "    client_credentials_manager = SpotifyClientCredentials(client_id=client_id, client_secret=client_secret)\n",
    "    sp = spotipy.Spotify(client_credentials_manager=client_credentials_manager)\n",
    "\n",
    "    # Search for the artist\n",
    "    results = sp.search(q=artist_name, type='artist', limit=1)\n",
    "\n",
    "    # Check if there are search results\n",
    "    if results['artists']['items']:\n",
    "        artist_genres = results['artists']['items'][0]['genres']\n",
    "        return artist_genres\n",
    "    else:\n",
    "        return []\n"
   ]
  },
  {
   "cell_type": "code",
   "execution_count": 24,
   "metadata": {},
   "outputs": [],
   "source": [
    "artist_set = df['artist'].unique()\n",
    "\n",
    "for artist in artist_set:\n",
    "    artist_genres = get_artist_genre(client_id, client_secret, artist)\n",
    "    rows = df.loc[df['artist'] == artist]\n",
    "    for index, row in rows.iterrows():\n",
    "        df.at[index, 'genre_list'] = artist_genres"
   ]
  },
  {
   "cell_type": "code",
   "execution_count": 25,
   "metadata": {},
   "outputs": [
    {
     "name": "stdout",
     "output_type": "stream",
     "text": [
      "There are 1144 songs with empty genre lists.\n"
     ]
    }
   ],
   "source": [
    "empty_genres = 0\n",
    "for index, row in df.iterrows():\n",
    "  if row['genre_list'] == []:\n",
    "    empty_genres += 1\n",
    "print('There are', empty_genres, 'songs with empty genre lists.')\n",
    "  "
   ]
  },
  {
   "cell_type": "markdown",
   "metadata": {},
   "source": [
    "#### Remove all songs with no genres"
   ]
  },
  {
   "cell_type": "code",
   "execution_count": 26,
   "metadata": {},
   "outputs": [
    {
     "name": "stdout",
     "output_type": "stream",
     "text": [
      "There are 0 songs with empty genre lists.\n"
     ]
    }
   ],
   "source": [
    "df = df[df['genre_list'].apply(lambda x: len(x) > 0)]\n",
    "empty_genres = 0\n",
    "for index, row in df.iterrows():\n",
    "  if row['genre_list'] == []:\n",
    "    empty_genres += 1\n",
    "print('There are', empty_genres, 'songs with empty genre lists.')"
   ]
  },
  {
   "cell_type": "markdown",
   "metadata": {},
   "source": [
    "#### Remove songs that are not in English"
   ]
  },
  {
   "cell_type": "code",
   "execution_count": 27,
   "metadata": {},
   "outputs": [],
   "source": [
    "import langid\n",
    "\n",
    "def detect_language(text):\n",
    "    # Returns a tuple containing the language code and the confidence\n",
    "    lang, confidence = langid.classify(text)\n",
    "    return lang == 'en'"
   ]
  },
  {
   "cell_type": "code",
   "execution_count": 28,
   "metadata": {},
   "outputs": [
    {
     "name": "stdout",
     "output_type": "stream",
     "text": [
      "There are 56506 songs in the dataset.\n",
      "There are 56067 songs in the dataset after removing non-English songs.\n"
     ]
    }
   ],
   "source": [
    "print('There are', len(df), 'songs in the dataset.')\n",
    "df = df[df['text'].apply(lambda x: detect_language(x))]\n",
    "print('There are', len(df), 'songs in the dataset after removing non-English songs.')\n"
   ]
  },
  {
   "cell_type": "markdown",
   "metadata": {},
   "source": [
    "#### Group similar genres together"
   ]
  },
  {
   "cell_type": "code",
   "execution_count": 29,
   "metadata": {},
   "outputs": [],
   "source": [
    "def genre_list_to_genre(genre_list):\n",
    "  for genre in genre_list:\n",
    "    if 'rock' in genre or 'metal' in genre or 'punk' in genre:\n",
    "      return 'rock'\n",
    "    elif 'hip hop' in genre or 'rap' in genre:\n",
    "      return 'hip_hop'\n",
    "    elif 'indie' in genre or 'alternative' in genre or 'folk' in genre:\n",
    "      return 'indie'\n",
    "    elif 'jazz' in genre or 'blues' in genre:\n",
    "      return 'jazz'\n",
    "    elif 'country' in genre or 'bluegrass' in genre:\n",
    "      return 'country'\n",
    "    elif 'pop' in genre:\n",
    "      return 'pop'\n",
    "  return ''"
   ]
  },
  {
   "cell_type": "code",
   "execution_count": 30,
   "metadata": {},
   "outputs": [],
   "source": [
    "df['genre'] = ''"
   ]
  },
  {
   "cell_type": "code",
   "execution_count": 31,
   "metadata": {},
   "outputs": [],
   "source": [
    "for index, row in df.iterrows():\n",
    "  genre_list = row['genre_list']\n",
    "  df.at[index, 'genre'] = genre_list_to_genre(genre_list)"
   ]
  },
  {
   "cell_type": "markdown",
   "metadata": {},
   "source": [
    "#### Remove songs that are not part of six main genres"
   ]
  },
  {
   "cell_type": "code",
   "execution_count": 32,
   "metadata": {},
   "outputs": [
    {
     "name": "stdout",
     "output_type": "stream",
     "text": [
      "Theres 5485 songs with uncommon genres.\n"
     ]
    }
   ],
   "source": [
    "count = 0 \n",
    "for index, row in df.iterrows():\n",
    "  if row['genre'] == '':\n",
    "    count += 1\n",
    "print('Theres', count, 'songs with uncommon genres.')\n",
    "\n"
   ]
  },
  {
   "cell_type": "code",
   "execution_count": 33,
   "metadata": {},
   "outputs": [],
   "source": [
    "for index, row in df.iterrows():\n",
    "  if row['genre'] == '':\n",
    "    df.drop(index, inplace=True)"
   ]
  },
  {
   "cell_type": "markdown",
   "metadata": {},
   "source": [
    "# Save the Data to CSV"
   ]
  },
  {
   "cell_type": "code",
   "execution_count": 34,
   "metadata": {},
   "outputs": [],
   "source": [
    "df.to_csv('../data/processed/processed_data.csv', index=False)"
   ]
  },
  {
   "cell_type": "markdown",
   "metadata": {},
   "source": [
    "## Save Stanzas to txt file"
   ]
  },
  {
   "cell_type": "code",
   "execution_count": 35,
   "metadata": {},
   "outputs": [],
   "source": [
    "N_GRAM = 5"
   ]
  },
  {
   "cell_type": "code",
   "execution_count": 36,
   "metadata": {},
   "outputs": [
    {
     "name": "stdout",
     "output_type": "stream",
     "text": [
      "['pop', '<s>', '<s>', '<s>', 'look', 'at', 'her', 'face', ',', 'it', \"'s\", 'a', 'wonderful', 'face', 'newlinebreak', 'and', 'it', 'means', 'something', 'special', 'to', 'me', 'newlinebreak', 'look', 'at', 'the', 'way', 'that', 'she', 'smiles', 'when', 'she', 'sees', 'me', 'newlinebreak', 'how', 'lucky', 'can', 'one', 'fellow', 'be', '?', 'newlinebreak', 'newlinebreak', 'she', \"'s\", 'just', 'my', 'kind', 'of', 'girl', ',', 'she', 'makes', 'me', 'feel', 'fine', 'newlinebreak', 'who', 'could', 'ever', 'believe', 'that', 'she', 'could', 'be', 'mine', '?', 'newlinebreak', 'she', \"'s\", 'just', 'my', 'kind', 'of', 'girl', ',', 'without', 'her', 'i', \"'m\", 'blue', 'newlinebreak', 'and', 'if', 'she', 'ever', 'leaves', 'me', 'what', 'could', 'i', 'do', ',', 'what', 'could', 'i', 'do', '?', 'newlinebreak', 'newlinebreak', 'and', 'when', 'we', 'go', 'for', 'a', 'walk', 'in', 'the', 'park', 'newlinebreak', 'and', 'she', 'holds', 'me', 'and', 'squeezes', 'my', 'hand', 'newlinebreak', 'we', \"'ll\", 'go', 'on', 'walking', 'for', 'hours', 'and', 'talking', 'newlinebreak', 'about', 'all', 'the', 'things', 'that', 'we', 'plan', 'newlinebreak', 'newlinebreak', 'she', \"'s\", 'just', 'my', 'kind', 'of', 'girl', ',', 'she', 'makes', 'me', 'feel', 'fine', 'newlinebreak', 'who', 'could', 'ever', 'believe', 'that', 'she', 'could', 'be', 'mine', '?', 'newlinebreak', 'she', \"'s\", 'just', 'my', 'kind', 'of', 'girl', ',', 'without', 'her', 'i', \"'m\", 'blue', 'newlinebreak', 'and', 'if', 'she', 'ever', 'leaves', 'me', 'what', 'could', 'i', 'do', ',', 'what', 'could', 'i', 'do', '?', 'newlinebreak', 'newlinebreak', '</s>', '</s>', '</s>']\n"
     ]
    }
   ],
   "source": [
    "data_lyrics = df['text'].tolist()\n",
    "data_genre = df['genre'].tolist()\n",
    "data = []\n",
    "for song, genre in zip(data_lyrics, data_genre):\n",
    "  lines = tokenize_song_by_stanza(song, ngram=N_GRAM)\n",
    "  for line in lines:\n",
    "    line.insert(0, genre)\n",
    "  data.extend(lines)\n",
    "print(data[0])\n",
    "random.shuffle(data)\n",
    "# Writing to a TXT file\n",
    "txt_filename = '../data/processed/stanzas.txt'\n",
    "with open(txt_filename, 'w', encoding='utf-8') as txtfile:\n",
    "    for line in data:\n",
    "        txtfile.write('\\t'.join(map(str, line)) + '\\n')"
   ]
  },
  {
   "cell_type": "markdown",
   "metadata": {},
   "source": [
    "# Graphs for Report"
   ]
  },
  {
   "cell_type": "code",
   "execution_count": 37,
   "metadata": {},
   "outputs": [
    {
     "data": {
      "image/png": "[encoded data removed]",
      "text/plain": [
       "<Figure size 640x480 with 1 Axes>"
      ]
     },
     "metadata": {},
     "output_type": "display_data"
    }
   ],
   "source": [
    "genre_counts = df['genre'].value_counts()\n",
    "plt.bar(genre_counts.index, genre_counts.values, color='orange')\n",
    "plt.xlabel('Genre')\n",
    "plt.ylabel('Number of Songs')\n",
    "plt.title('Number of Songs by Genre')\n",
    "plt.show()"
   ]
  }
 ],
 "metadata": {
  "kernelspec": {
   "display_name": "Python 3",
   "language": "python",
   "name": "python3"
  },
  "language_info": {
   "codemirror_mode": {
    "name": "ipython",
    "version": 3
   },
   "file_extension": ".py",
   "mimetype": "text/x-python",
   "name": "python",
   "nbconvert_exporter": "python",
   "pygments_lexer": "ipython3",
   "version": "3.11.5"
  }
 },
 "nbformat": 4,
 "nbformat_minor": 2
}
