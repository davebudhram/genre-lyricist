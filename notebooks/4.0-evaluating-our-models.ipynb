{
 "cells": [
  {
   "cell_type": "markdown",
   "metadata": {},
   "source": [
    "# Evaluating our Models"
   ]
  },
  {
   "cell_type": "code",
   "execution_count": 51,
   "metadata": {},
   "outputs": [],
   "source": [
    "import pandas as pd\n",
    "import matplotlib.pyplot as plt\n",
    "import numpy as np\n",
    "import keras\n",
    "from keras.preprocessing.text import Tokenizer\n",
    "from utils import read_embeddings, generate_ngram_training_samples, data_generator"
   ]
  },
  {
   "cell_type": "code",
   "execution_count": 47,
   "metadata": {},
   "outputs": [],
   "source": [
    "N_GRAM = 5\n",
    "BATCH_SIZE = 1000\n",
    "SENTENCE_BEGIN = '<s>'\n",
    "SENTENCE_END = '</s>'\n",
    "NEW_LINE = 'newlinebreak'\n",
    "STANZAS_FILE = \"../data/processed/stanzas.txt\"\n",
    "\n",
    "FEEDFORWARD_FILE = \"../models/feed_forward_model.h5\"\n",
    "\n",
    "RNN_MODEL_2_UNITS_FILE = \"../models/rnn_model_2_units.h5\"\n",
    "RNN_MODEL_4_UNITS_FILE = \"../models/rnn_model_4_units.h5\"\n",
    "RNN_MODEL_8_UNITS_FILE = \"../models/rnn_model_8_units.h5\"\n",
    "RNN_MODEL_16_UNITS_FILE = \"../models/rnn_model_16_units.h5\"\n",
    "RNN_MODEL_32_UNITS_FILE = \"../models/rnn_model_32_units.h5\"\n",
    "RNN_MODEL_64_UNITS_FILE = \"../models/rnn_model_64_units.h5\"\n",
    "\n",
    "LSTM_FILE = \"../models/lstm_model.h5\"\n",
    "\n",
    "ATTENTION_LSTM_FILE = \"../models/attention_lstm_model.h5\""
   ]
  },
  {
   "cell_type": "markdown",
   "metadata": {},
   "source": [
    "## Make Tokenizer and get Embeddings"
   ]
  },
  {
   "cell_type": "code",
   "execution_count": 26,
   "metadata": {},
   "outputs": [],
   "source": [
    "stanzas_as_words = []\n",
    "with open(STANZAS_FILE, 'r', encoding='utf-8') as txtfile:\n",
    "    for line in txtfile:\n",
    "        # Split each line into a list using '\\t' as the separator\n",
    "        line_data = line.strip().split('\\t')\n",
    "        stanzas_as_words.append(line_data)\n",
    "\n",
    "tokenizer = Tokenizer(char_level=False)\n",
    "tokenizer.fit_on_texts(stanzas_as_words)\n",
    "# Convert stanzas into numerical indexes (list of lists of string -> list of lists of int)\n",
    "stanzas = tokenizer.texts_to_sequences(stanzas_as_words)"
   ]
  },
  {
   "cell_type": "code",
   "execution_count": 27,
   "metadata": {},
   "outputs": [],
   "source": [
    "index_to_embeddings = read_embeddings(\"../reference-materials/lyrics_embeddings.txt\", tokenizer=tokenizer)"
   ]
  },
  {
   "cell_type": "markdown",
   "metadata": {},
   "source": [
    "### Get Ngrams and Split in train and test"
   ]
  },
  {
   "cell_type": "code",
   "execution_count": 28,
   "metadata": {},
   "outputs": [],
   "source": [
    "X, y = generate_ngram_training_samples(stanzas, N_GRAM)\n",
    "split = int(0.7 * len(X))\n",
    "X_train = X[:split]\n",
    "y_train = y[:split]\n",
    "X_test = X[split:]\n",
    "y_test = y[split:]"
   ]
  },
  {
   "cell_type": "markdown",
   "metadata": {},
   "source": [
    "# Load in models"
   ]
  },
  {
   "cell_type": "code",
   "execution_count": 64,
   "metadata": {},
   "outputs": [
    {
     "name": "stdout",
     "output_type": "stream",
     "text": [
      "WARNING:tensorflow:Layer lstm_2 will not use cuDNN kernels since it doesn't meet the criteria. It will use a generic GPU kernel as fallback when running on GPU.\n",
      "WARNING:tensorflow:Layer lstm_1 will not use cuDNN kernels since it doesn't meet the criteria. It will use a generic GPU kernel as fallback when running on GPU.\n"
     ]
    }
   ],
   "source": [
    "feedforward_model = keras.models.load_model(FEEDFORWARD_FILE)\n",
    "rnn_model_2_units = keras.models.load_model(RNN_MODEL_2_UNITS_FILE)\n",
    "rnn_model_4_units = keras.models.load_model(RNN_MODEL_4_UNITS_FILE)\n",
    "rnn_model_8_units = keras.models.load_model(RNN_MODEL_8_UNITS_FILE)\n",
    "rnn_model_16_units = keras.models.load_model(RNN_MODEL_16_UNITS_FILE)\n",
    "rnn_model_32_units = keras.models.load_model(RNN_MODEL_32_UNITS_FILE)\n",
    "rnn_model_64_units = keras.models.load_model(RNN_MODEL_64_UNITS_FILE)\n",
    "\n",
    "lstm_model = keras.models.load_model(LSTM_FILE)\n",
    "attention_lstm_model = keras.models.load_model(ATTENTION_LSTM_FILE)"
   ]
  },
  {
   "cell_type": "markdown",
   "metadata": {},
   "source": [
    "## Evaluation Functions"
   ]
  },
  {
   "cell_type": "code",
   "execution_count": 33,
   "metadata": {},
   "outputs": [],
   "source": [
    "def test_model(model, X_test, y_test, index_to_embeddings):\n",
    "  data_generator_test = data_generator(X_test, y_test, index_to_embeddings, batch_size=BATCH_SIZE, sequence_length=N_GRAM, epochs=1)\n",
    "  loss, accuracy = model.evaluate(data_generator_test, steps=len(X_test) // BATCH_SIZE)\n",
    "  perplexity = np.power(2, loss)\n",
    "  return loss, accuracy, perplexity\n"
   ]
  },
  {
   "cell_type": "code",
   "execution_count": 40,
   "metadata": {},
   "outputs": [
    {
     "name": "stdout",
     "output_type": "stream",
     "text": [
      "4497/4497 [==============================] - 923s 205ms/step - loss: 7.7357 - accuracy: 0.1166\n",
      "RNN model with 2 units: loss = 7.735691547393799, accuracy = 0.11664687842130661, perplexity = 213.14502141686475\n"
     ]
    }
   ],
   "source": [
    "rnn_model_2_units_loss, rnn_model_2_units_accuracy, rnn_model_2_units_perplexity = test_model(rnn_model_2_units, X_test, y_test, index_to_embeddings)\n",
    "print(\"RNN model with 2 units: loss = {}, accuracy = {}, perplexity = {}\".format(rnn_model_2_units_loss, rnn_model_2_units_accuracy, rnn_model_2_units_perplexity))"
   ]
  },
  {
   "cell_type": "code",
   "execution_count": 34,
   "metadata": {},
   "outputs": [
    {
     "name": "stdout",
     "output_type": "stream",
     "text": [
      "4497/4497 [==============================] - 877s 194ms/step - loss: 9.7768 - accuracy: 0.1066\n",
      "RNN model with 4 units: loss = 9.776773452758789, accuracy = 0.10659462213516235, perplexity = 877.2069625476673\n"
     ]
    }
   ],
   "source": [
    "rnn_model_4_units_loss, rnn_model_4_units_accuracy, rnn_model_4_units_perplexity = test_model(rnn_model_4_units, X_test, y_test, index_to_embeddings)\n",
    "print(\"RNN model with 4 units: loss = {}, accuracy = {}, perplexity = {}\".format(rnn_model_4_units_loss, rnn_model_4_units_accuracy, rnn_model_4_units_perplexity))"
   ]
  },
  {
   "cell_type": "code",
   "execution_count": 35,
   "metadata": {},
   "outputs": [
    {
     "name": "stdout",
     "output_type": "stream",
     "text": [
      "4497/4497 [==============================] - 822s 183ms/step - loss: 15.1290 - accuracy: 0.0786\n",
      "RNN model with 8 units: loss = 15.128952026367188, accuracy = 0.07862485945224762, perplexity = 35831.77834450515\n"
     ]
    }
   ],
   "source": [
    "rnn_model_8_units_loss, rnn_model_8_units_accuracy, rnn_model_8_units_perplexity = test_model(rnn_model_8_units, X_test, y_test, index_to_embeddings)\n",
    "print(\"RNN model with 8 units: loss = {}, accuracy = {}, perplexity = {}\".format(rnn_model_8_units_loss, rnn_model_8_units_accuracy, rnn_model_8_units_perplexity))"
   ]
  },
  {
   "cell_type": "code",
   "execution_count": 36,
   "metadata": {},
   "outputs": [
    {
     "name": "stdout",
     "output_type": "stream",
     "text": [
      "4497/4497 [==============================] - 1397s 311ms/step - loss: 18.8131 - accuracy: 0.0649\n",
      "RNN model with 16 units: loss = 18.813146591186523, accuracy = 0.06487391889095306, perplexity = 460597.3519137311\n"
     ]
    }
   ],
   "source": [
    "rnn_model_16_units_loss, rnn_model_16_units_accuracy, rnn_model_16_units_perplexity = test_model(rnn_model_16_units, X_test, y_test, index_to_embeddings)\n",
    "print(\"RNN model with 16 units: loss = {}, accuracy = {}, perplexity = {}\".format(rnn_model_16_units_loss, rnn_model_16_units_accuracy, rnn_model_16_units_perplexity))"
   ]
  },
  {
   "cell_type": "code",
   "execution_count": 41,
   "metadata": {},
   "outputs": [
    {
     "name": "stdout",
     "output_type": "stream",
     "text": [
      "4497/4497 [==============================] - 859s 191ms/step - loss: 19.0547 - accuracy: 0.0683\n",
      "RNN model with 32 units: loss = 19.054731369018555, accuracy = 0.0683453381061554, perplexity = 544559.9546057662\n"
     ]
    }
   ],
   "source": [
    "# rnn_model_32_units_loss, rnn_model_32_units_accuracy, rnn_model_32_units_perplexity = test_model(rnn_model_32_units, X_test, y_test, index_to_embeddings)\n",
    "# print(\"RNN model with 32 units: loss = {}, accuracy = {}, perplexity = {}\".format(rnn_model_32_units_loss, rnn_model_32_units_accuracy, rnn_model_32_units_perplexity))"
   ]
  },
  {
   "cell_type": "code",
   "execution_count": 63,
   "metadata": {},
   "outputs": [
    {
     "data": {
      "image/png": "[encoded data removed]",
      "text/plain": [
       "<Figure size 1500x500 with 3 Axes>"
      ]
     },
     "metadata": {},
     "output_type": "display_data"
    }
   ],
   "source": [
    "accuracies = [rnn_model_2_units_accuracy, rnn_model_4_units_accuracy, rnn_model_8_units_accuracy, rnn_model_16_units_accuracy]\n",
    "losses = [rnn_model_2_units_loss, rnn_model_4_units_loss, rnn_model_8_units_loss, rnn_model_16_units_loss]\n",
    "perplexities = [rnn_model_2_units_perplexity, rnn_model_4_units_perplexity, rnn_model_8_units_perplexity, rnn_model_16_units_perplexity,]\n",
    "units = [2, 4, 8, 16]\n",
    "\n",
    "# Create a 1x3 grid of subplots\n",
    "fig, axs = plt.subplots(1, 3, figsize=(15, 5))\n",
    "\n",
    "# Plot Accuracy vs. Number of Units\n",
    "axs[0].scatter(units, accuracies, color='blue')\n",
    "axs[0].set_ylabel('Accuracy')\n",
    "axs[0].set_xlabel('Number of Units')\n",
    "axs[0].set_title('Accuracy vs. Number of Units')\n",
    "\n",
    "# Annotate each point with its accuracy value\n",
    "for i, txt in enumerate(accuracies):\n",
    "    axs[0].annotate(f'{accuracies[i]:.2f}', (units[i], accuracies[i]), textcoords=\"offset points\", xytext=(0,-12), ha='center')\n",
    "\n",
    "# Plot Loss vs. Number of Units\n",
    "axs[1].scatter(units, losses, color='red')\n",
    "axs[1].set_ylabel('Loss')\n",
    "axs[1].set_xlabel('Number of Units')\n",
    "axs[1].set_title('Loss vs. Number of Units')\n",
    "\n",
    "# Annotate each point with its accuracy value\n",
    "for i, txt in enumerate(losses):\n",
    "    axs[1].annotate(f'{losses[i]:.2f}', (units[i], losses[i]), textcoords=\"offset points\", xytext=(0,-12), ha='center')\n",
    "\n",
    "# Plot Perplexity vs. Number of Units\n",
    "axs[2].scatter(units, perplexities, color='green')\n",
    "axs[2].set_ylabel('Perplexity')\n",
    "axs[2].set_xlabel('Number of Units')\n",
    "axs[2].set_title('Perplexity vs. Number of Units')\n",
    "\n",
    "\n",
    "# Annotate each point with its accuracy value\n",
    "for i, txt in enumerate(perplexities):\n",
    "    axs[2].annotate(f'{perplexities[i]:.0f}', (units[i], perplexities[i]), textcoords=\"offset points\", xytext=(0,-12), ha='center')\n",
    "\n",
    "# Set a general title for the entire plot\n",
    "fig.suptitle('Testing Metrics', fontsize=16)\n",
    "\n",
    "# Adjust layout for better spacing\n",
    "plt.tight_layout()\n",
    "\n",
    "# Display the plots\n",
    "plt.show()"
   ]
  },
  {
   "cell_type": "code",
   "execution_count": 49,
   "metadata": {},
   "outputs": [
    {
     "name": "stdout",
     "output_type": "stream",
     "text": [
      "4497/4497 [==============================] - 919s 204ms/step - loss: 8.7095 - accuracy: 0.1058\n",
      "Feed forward model: loss = 8.709470748901367, accuracy = 0.10578252375125885, perplexity = 418.6122583607503\n"
     ]
    }
   ],
   "source": [
    "feed_forward_model_loss, feed_forward_model_accuracy, feed_forward_model_perplexity = test_model(feedforward_model, X_test, y_test, index_to_embeddings)\n",
    "print(\"Feed forward model: loss = {}, accuracy = {}, perplexity = {}\".format(feed_forward_model_loss, feed_forward_model_accuracy, feed_forward_model_perplexity))"
   ]
  },
  {
   "cell_type": "code",
   "execution_count": 65,
   "metadata": {},
   "outputs": [
    {
     "name": "stdout",
     "output_type": "stream",
     "text": [
      "4497/4497 [==============================] - 903s 201ms/step - loss: 8.6294 - accuracy: 0.1164\n",
      "LSTM model: loss = 8.62939167022705, accuracy = 0.11641694605350494, perplexity = 396.00962090157634\n"
     ]
    }
   ],
   "source": [
    "lstm_model_loss, lstm_model_accuracy, lstm_model_perplexity = test_model(lstm_model, X_test, y_test, index_to_embeddings)\n",
    "print(\"LSTM model: loss = {}, accuracy = {}, perplexity = {}\".format(lstm_model_loss, lstm_model_accuracy, lstm_model_perplexity))"
   ]
  },
  {
   "cell_type": "code",
   "execution_count": 44,
   "metadata": {},
   "outputs": [
    {
     "name": "stdout",
     "output_type": "stream",
     "text": [
      "4497/4497 [==============================] - 823s 183ms/step - loss: 11.2252 - accuracy: 0.0735\n",
      "LSTM model with attention: loss = 11.225196838378906, accuracy = 0.07350300252437592, perplexity = 2393.98241286639\n"
     ]
    }
   ],
   "source": [
    "lstm_model_attention_loss, lstm_model_attention_accuracy, lstm_model_attention_perplexity = test_model(attention_lstm_model, X_test, y_test, index_to_embeddings)\n",
    "print(\"LSTM model with attention: loss = {}, accuracy = {}, perplexity = {}\".format(lstm_model_attention_loss, lstm_model_attention_accuracy, lstm_model_attention_perplexity))"
   ]
  }
 ],
 "metadata": {
  "kernelspec": {
   "display_name": "Python 3",
   "language": "python",
   "name": "python3"
  },
  "language_info": {
   "codemirror_mode": {
    "name": "ipython",
    "version": 3
   },
   "file_extension": ".py",
   "mimetype": "text/x-python",
   "name": "python",
   "nbconvert_exporter": "python",
   "pygments_lexer": "ipython3",
   "version": "3.11.5"
  }
 },
 "nbformat": 4,
 "nbformat_minor": 2
}
