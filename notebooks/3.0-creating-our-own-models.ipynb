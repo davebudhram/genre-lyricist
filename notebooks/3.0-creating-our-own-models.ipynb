{
 "cells": [
  {
   "cell_type": "markdown",
   "metadata": {},
   "source": [
    "# Making our Models\n",
    "We will create four different models: feedforward, RNN, LSTM, and an LSTM with attention"
   ]
  },
  {
   "cell_type": "code",
   "execution_count": 24,
   "metadata": {},
   "outputs": [],
   "source": [
    "import numpy as np\n",
    "import pandas as pd\n",
    "import matplotlib.pyplot as plt\n",
    "# Importing utility functions from Keras\n",
    "import keras\n",
    "from keras.preprocessing.text import Tokenizer\n",
    "from keras.utils import to_categorical\n",
    "\n",
    "from keras.models import Sequential, Model\n",
    "from keras.layers import SimpleRNN, Dense, LSTM, Flatten\n",
    "from keras.layers import Input, Dense, LSTM, Attention, Concatenate\n",
    "\n",
    "from utils import convertSamplesToEmbeddings, read_embeddings, generate_ngram_training_samples, data_generator"
   ]
  },
  {
   "cell_type": "code",
   "execution_count": 25,
   "metadata": {},
   "outputs": [],
   "source": [
    "N_GRAM = 5\n",
    "EMBEDDING_SIZE = 100\n",
    "BATCH_SIZE = 1000\n",
    "SENTENCE_BEGIN = \"<s>\"\n",
    "SENTENCE_END = \"</s>\"\n",
    "PROCESSED_DATA_FILE = \"../data/processed/processed_data.csv\"\n",
    "STANZAS_FILE = '../data/processed/stanzas.txt'\n",
    "EMBEDDING_FILE = \"../reference-materials/lyrics_embeddings.txt\""
   ]
  },
  {
   "cell_type": "code",
   "execution_count": 26,
   "metadata": {},
   "outputs": [],
   "source": [
    "new_stanzas_as_words = []\n",
    "with open(STANZAS_FILE, 'r', encoding='utf-8') as txtfile:\n",
    "    for line in txtfile:\n",
    "        # Split each line into a list using '\\t' as the separator\n",
    "        line_data = line.strip().split('\\t')\n",
    "        new_stanzas_as_words.append(line_data)"
   ]
  },
  {
   "cell_type": "markdown",
   "metadata": {},
   "source": [
    "### Create list of song lyrics with genre\n",
    "Tokenizes the each song into a a list of sentences. Appends the genre of the song in front of each \n",
    "sentence."
   ]
  },
  {
   "cell_type": "code",
   "execution_count": 27,
   "metadata": {},
   "outputs": [],
   "source": [
    "# Initialize a Tokenizer and fit on your data\n",
    "tokenizer = Tokenizer(char_level=False)\n",
    "tokenizer.fit_on_texts(new_stanzas_as_words)\n",
    "# Convert stanzas into numerical indexes (list of lists of string -> list of lists of int)\n",
    "stanzas = tokenizer.texts_to_sequences(new_stanzas_as_words)"
   ]
  },
  {
   "cell_type": "code",
   "execution_count": 28,
   "metadata": {},
   "outputs": [
    {
     "name": "stdout",
     "output_type": "stream",
     "text": [
      "Vocab size:  87923\n"
     ]
    }
   ],
   "source": [
    "# print size of vocab\n",
    "vocab_size = len(tokenizer.word_counts)\n",
    "print(\"Vocab size: \", vocab_size)"
   ]
  },
  {
   "cell_type": "markdown",
   "metadata": {},
   "source": [
    "### Read in the embeddings and create dictionary mapping index to embeddings"
   ]
  },
  {
   "cell_type": "code",
   "execution_count": 29,
   "metadata": {},
   "outputs": [],
   "source": [
    "index_to_embedding = read_embeddings(EMBEDDING_FILE, tokenizer)"
   ]
  },
  {
   "cell_type": "markdown",
   "metadata": {},
   "source": [
    "### Create ngram training samples\n",
    "Add each genre to the beginning of the ngram. The ngram is of size 5, index 0 is the genre. Indexes\n",
    "1-3 are the features, and index 5 is the label"
   ]
  },
  {
   "cell_type": "code",
   "execution_count": 30,
   "metadata": {},
   "outputs": [],
   "source": [
    "X, y = generate_ngram_training_samples(stanzas, N_GRAM)"
   ]
  },
  {
   "cell_type": "code",
   "execution_count": 31,
   "metadata": {},
   "outputs": [
    {
     "name": "stdout",
     "output_type": "stream",
     "text": [
      "Number of training samples:  14990276\n",
      "Number of labels:  14990276\n",
      "First training sample:  [530, 13, 13, 13]\n",
      "First label:  541\n",
      "Second training sample:  [530, 13, 13, 541]\n",
      "Second label:  11\n"
     ]
    }
   ],
   "source": [
    "print(\"Number of training samples: \", len(X))\n",
    "print(\"Number of labels: \", len(y))\n",
    "print(\"First training sample: \", X[0])\n",
    "print(\"First label: \", y[0])\n",
    "print(\"Second training sample: \", X[1])\n",
    "print(\"Second label: \", y[1])"
   ]
  },
  {
   "cell_type": "markdown",
   "metadata": {},
   "source": [
    "### Split the Data"
   ]
  },
  {
   "cell_type": "code",
   "execution_count": 32,
   "metadata": {},
   "outputs": [],
   "source": [
    "split = int(0.7 * len(X))\n",
    "X_train = X[:split]\n",
    "y_train = y[:split]\n",
    "X_test = X[split:]\n",
    "y_test = y[split:]"
   ]
  },
  {
   "cell_type": "markdown",
   "metadata": {},
   "source": [
    "## Creating Models\n"
   ]
  },
  {
   "cell_type": "markdown",
   "metadata": {},
   "source": [
    "### Create RNN models. We will use the RNN model in order to find the best number of units to use"
   ]
  },
  {
   "cell_type": "code",
   "execution_count": 41,
   "metadata": {},
   "outputs": [],
   "source": [
    "def build_rnn_model(X, y, index_to_embedding: dict, batch_size=4, sequence_length=N_GRAM, epochs=1, units=16):\n",
    "    generator = data_generator(X, y, index_to_embedding, batch_size, sequence_length, epochs)\n",
    "    model = Sequential()\n",
    "    model.add(SimpleRNN(units, input_shape=(sequence_length-1, EMBEDDING_SIZE), activation='relu'))\n",
    "    model.add(Dense(len(index_to_embedding), activation='softmax'))\n",
    "    model.compile(loss='categorical_crossentropy', optimizer='adam', metrics=['accuracy'])\n",
    "    history = model.fit(x=generator, steps_per_epoch=len(X) // batch_size, epochs=epochs)\n",
    "    model.save('../models/rnn_model_' + str(units) + '_units.h5')\n",
    "    #training_loss_history = history.history['loss']\n",
    "    # plt.plot(training_loss_history)\n",
    "    # plt.xlabel('Epoch')\n",
    "    # plt.ylabel('Training Loss')\n",
    "    # plt.title('Training Loss Over Epochs')\n",
    "    # plt.show()\n",
    "\n",
    "    return model, history"
   ]
  },
  {
   "cell_type": "markdown",
   "metadata": {},
   "source": [
    "#### Use 2, 4, 8, 16, and 32 units"
   ]
  },
  {
   "cell_type": "code",
   "execution_count": 53,
   "metadata": {},
   "outputs": [
    {
     "name": "stdout",
     "output_type": "stream",
     "text": [
      "10493/10493 [==============================] - 2096s 200ms/step - loss: 4.1097 - accuracy: 0.1842\n"
     ]
    }
   ],
   "source": [
    "rnn_model_2_units, rnn_history_2_units =  build_rnn_model(X_train, y_train, index_to_embedding, batch_size=BATCH_SIZE, sequence_length=N_GRAM, epochs=1, units=2)"
   ]
  },
  {
   "cell_type": "code",
   "execution_count": 46,
   "metadata": {},
   "outputs": [
    {
     "name": "stdout",
     "output_type": "stream",
     "text": [
      "10493/10493 [==============================] - 2302s 219ms/step - loss: 3.2256 - accuracy: 0.2990\n"
     ]
    },
    {
     "name": "stderr",
     "output_type": "stream",
     "text": [
      "/Library/Frameworks/Python.framework/Versions/3.11/lib/python3.11/site-packages/keras/src/engine/training.py:3079: UserWarning: You are saving your model as an HDF5 file via `model.save()`. This file format is considered legacy. We recommend using instead the native Keras format, e.g. `model.save('my_model.keras')`.\n",
      "  saving_api.save_model(\n"
     ]
    }
   ],
   "source": [
    "rnn_model_4_units, rnn_history_4_units =  build_rnn_model(X_train, y_train, index_to_embedding, batch_size=BATCH_SIZE, sequence_length=N_GRAM, epochs=1, units=4)"
   ]
  },
  {
   "cell_type": "code",
   "execution_count": 51,
   "metadata": {},
   "outputs": [
    {
     "name": "stdout",
     "output_type": "stream",
     "text": [
      "10493/10493 [==============================] - 2095s 200ms/step - loss: 1.9545 - accuracy: 0.5668\n"
     ]
    }
   ],
   "source": [
    "rnn_model_8_units, rnn_history_8_units =  build_rnn_model(X_train, y_train, index_to_embedding, batch_size=BATCH_SIZE, sequence_length=N_GRAM, epochs=1, units=8)"
   ]
  },
  {
   "cell_type": "code",
   "execution_count": 47,
   "metadata": {},
   "outputs": [
    {
     "name": "stdout",
     "output_type": "stream",
     "text": [
      "10493/10493 [==============================] - 2249s 214ms/step - loss: 0.9327 - accuracy: 0.8180\n"
     ]
    }
   ],
   "source": [
    "rnn_model_16_units, rnn_history_16_units =  build_rnn_model(X_train, y_train, index_to_embedding, batch_size=BATCH_SIZE, sequence_length=N_GRAM, epochs=1, units=16)"
   ]
  },
  {
   "cell_type": "code",
   "execution_count": 50,
   "metadata": {},
   "outputs": [
    {
     "name": "stdout",
     "output_type": "stream",
     "text": [
      "10493/10493 [==============================] - 2231s 212ms/step - loss: 0.3819 - accuracy: 0.9158\n"
     ]
    }
   ],
   "source": [
    "rnn_model_32_units, rnn_history_32_units = build_rnn_model(X_train, y_train, index_to_embedding, batch_size=BATCH_SIZE, sequence_length=N_GRAM, epochs=1, units=32)"
   ]
  },
  {
   "cell_type": "code",
   "execution_count": 49,
   "metadata": {},
   "outputs": [
    {
     "name": "stdout",
     "output_type": "stream",
     "text": [
      "10493/10493 [==============================] - 2237s 213ms/step - loss: 0.2471 - accuracy: 0.9281\n"
     ]
    },
    {
     "name": "stderr",
     "output_type": "stream",
     "text": [
      "/Library/Frameworks/Python.framework/Versions/3.11/lib/python3.11/site-packages/keras/src/engine/training.py:3079: UserWarning: You are saving your model as an HDF5 file via `model.save()`. This file format is considered legacy. We recommend using instead the native Keras format, e.g. `model.save('my_model.keras')`.\n",
      "  saving_api.save_model(\n"
     ]
    }
   ],
   "source": [
    "rnn_model_64_units, rnn_history_64_units = build_rnn_model(X_train, y_train, index_to_embedding, batch_size=BATCH_SIZE, sequence_length=N_GRAM, epochs=1, units=64)"
   ]
  },
  {
   "cell_type": "code",
   "execution_count": 69,
   "metadata": {},
   "outputs": [
    {
     "data": {
      "image/png": "[encoded data removed]",
      "text/plain": [
       "<Figure size 1500x500 with 3 Axes>"
      ]
     },
     "metadata": {},
     "output_type": "display_data"
    }
   ],
   "source": [
    "accuracies = [rnn_history_2_units.history['accuracy'][-1], rnn_history_4_units.history['accuracy'][-1], rnn_history_8_units.history['accuracy'][-1], rnn_history_16_units.history['accuracy'][-1]]\n",
    "losses = [rnn_history_2_units.history['loss'][-1], rnn_history_4_units.history['loss'][-1], rnn_history_8_units.history['loss'][-1], rnn_history_16_units.history['loss'][-1]]\n",
    "perplexities = [np.power(2, loss) for loss in losses]\n",
    "units = [2, 4, 8, 16]\n",
    "\n",
    "# Create a 1x3 grid of subplots\n",
    "fig, axs = plt.subplots(1, 3, figsize=(15, 5))\n",
    "\n",
    "# Plot Accuracy vs. Number of Units\n",
    "axs[0].scatter(units, accuracies, color='blue')\n",
    "axs[0].set_ylabel('Accuracy')\n",
    "axs[0].set_xlabel('Number of Units')\n",
    "axs[0].set_title('Accuracy vs. Number of Units')\n",
    "\n",
    "# Annotate each point with its accuracy value\n",
    "for i, txt in enumerate(accuracies):\n",
    "    axs[0].annotate(f'{accuracies[i]:.2f}', (units[i], accuracies[i]), textcoords=\"offset points\", xytext=(0,-12), ha='center')\n",
    "\n",
    "# Plot Loss vs. Number of Units\n",
    "axs[1].scatter(units, losses, color='red')\n",
    "axs[1].set_ylabel('Loss')\n",
    "axs[1].set_xlabel('Number of Units')\n",
    "axs[1].set_title('Loss vs. Number of Units')\n",
    "\n",
    "# Annotate each point with its accuracy value\n",
    "for i, txt in enumerate(losses):\n",
    "    axs[1].annotate(f'{losses[i]:.2f}', (units[i], losses[i]), textcoords=\"offset points\", xytext=(0,-12), ha='center')\n",
    "\n",
    "# Plot Perplexity vs. Number of Units\n",
    "axs[2].scatter(units, perplexities, color='green')\n",
    "axs[2].set_ylabel('Perplexity')\n",
    "axs[2].set_xlabel('Number of Units')\n",
    "axs[2].set_title('Perplexity vs. Number of Units')\n",
    "\n",
    "\n",
    "# Annotate each point with its accuracy value\n",
    "for i, txt in enumerate(perplexities):\n",
    "    axs[2].annotate(f'{perplexities[i]:.0f}', (units[i], perplexities[i]), textcoords=\"offset points\", xytext=(0,-12), ha='center')\n",
    "\n",
    "# Set a general title for the entire plot\n",
    "fig.suptitle('Testing Metrics', fontsize=16)\n",
    "\n",
    "# Adjust layout for better spacing\n",
    "plt.tight_layout()\n",
    "\n",
    "# Display the plots\n",
    "plt.show()"
   ]
  },
  {
   "cell_type": "markdown",
   "metadata": {},
   "source": [
    "### Create Feedforward model with _ units "
   ]
  },
  {
   "cell_type": "code",
   "execution_count": 59,
   "metadata": {},
   "outputs": [],
   "source": [
    "def build_feed_forward_model(X, y, index_to_embedding: dict, batch_size=1000, sequence_length=N_GRAM, epochs=1, units=16):\n",
    "  generator = data_generator(X, y, index_to_embedding, batch_size, sequence_length, epochs)\n",
    "  model = Sequential()\n",
    "  # Flatten the input sequence to be compatible with Dense layers\n",
    "  model.add(Flatten(input_shape=(sequence_length-1, EMBEDDING_SIZE)))\n",
    "  # Add one or more Dense layers\n",
    "  model.add(Dense(units, activation='relu'))\n",
    "  model.add(Dense(units=len(index_to_embedding), activation='softmax'))\n",
    "  model.compile(loss='categorical_crossentropy', optimizer='adam', metrics=['accuracy'])\n",
    "  model.save('../models/feed_forward_model.keras')\n",
    "  history = model.fit(x=generator, steps_per_epoch=len(X) // batch_size, epochs=epochs)\n",
    "  # training_loss_history = history.history['loss']\n",
    "  # plt.plot(training_loss_history)\n",
    "  # plt.xlabel('Epoch')\n",
    "  # plt.ylabel('Training Loss')\n",
    "  # plt.title('Training Loss Over Epochs')\n",
    "  # plt.show()\n",
    "\n",
    "  \n",
    "  return model, history"
   ]
  },
  {
   "cell_type": "code",
   "execution_count": 60,
   "metadata": {},
   "outputs": [
    {
     "name": "stdout",
     "output_type": "stream",
     "text": [
      "10493/10493 [==============================] - 1915s 182ms/step - loss: 4.0369 - accuracy: 0.1893\n"
     ]
    }
   ],
   "source": [
    "feed_forward_model, feed_forward_history = build_feed_forward_model(X_train, y_train, index_to_embedding, batch_size=1000, sequence_length=N_GRAM, epochs=1, units=2)"
   ]
  },
  {
   "cell_type": "markdown",
   "metadata": {},
   "source": [
    "### Create LSTM model with _ units"
   ]
  },
  {
   "cell_type": "code",
   "execution_count": 70,
   "metadata": {},
   "outputs": [],
   "source": [
    "def build_lstm_model(X, y, index_to_embedding: dict, batch_size=4, sequence_length=N_GRAM, epochs=1,units=16):\n",
    "    generator = data_generator(X, y, index_to_embedding, batch_size, sequence_length, epochs)\n",
    "    model = Sequential()\n",
    "    model.add(LSTM(units, input_shape=(sequence_length-1, EMBEDDING_SIZE), activation='relu'))\n",
    "    model.add(Dense(len(index_to_embedding), activation='softmax'))\n",
    "    model.compile(loss='categorical_crossentropy', optimizer='adam', metrics=['accuracy'])\n",
    "    history = model.fit(x=generator, steps_per_epoch=len(X) // batch_size, epochs=epochs)\n",
    "    model.save('../models/lstm_model.h5')\n",
    "    # training_loss_history = history.history['loss']\n",
    "    # plt.plot(training_loss_history)\n",
    "    # plt.xlabel('Epoch')\n",
    "    # plt.ylabel('Training Loss')\n",
    "    # plt.title('Training Loss Over Epochs')\n",
    "    # plt.show()\n",
    "    return model, history"
   ]
  },
  {
   "cell_type": "code",
   "execution_count": 71,
   "metadata": {},
   "outputs": [
    {
     "name": "stdout",
     "output_type": "stream",
     "text": [
      "WARNING:tensorflow:Layer lstm_2 will not use cuDNN kernels since it doesn't meet the criteria. It will use a generic GPU kernel as fallback when running on GPU.\n",
      "10493/10493 [==============================] - 2536s 242ms/step - loss: 4.1703 - accuracy: 0.2012\n"
     ]
    },
    {
     "name": "stderr",
     "output_type": "stream",
     "text": [
      "/Library/Frameworks/Python.framework/Versions/3.11/lib/python3.11/site-packages/keras/src/engine/training.py:3079: UserWarning: You are saving your model as an HDF5 file via `model.save()`. This file format is considered legacy. We recommend using instead the native Keras format, e.g. `model.save('my_model.keras')`.\n",
      "  saving_api.save_model(\n"
     ]
    }
   ],
   "source": [
    "lstm_model, lstm_history = build_lstm_model(X_train, y_train, index_to_embedding, batch_size=1000, sequence_length=N_GRAM, epochs=1, units=2)"
   ]
  },
  {
   "cell_type": "markdown",
   "metadata": {},
   "source": [
    "### LSTM Model with Attention"
   ]
  },
  {
   "cell_type": "code",
   "execution_count": 57,
   "metadata": {},
   "outputs": [],
   "source": [
    "def build_attention_lstm_model(X, y, index_to_embedding: dict, batch_size=4, sequence_length=N_GRAM, epochs=1, units=16):\n",
    "    generator = data_generator(X, y, index_to_embedding, batch_size, sequence_length, epochs)\n",
    "    # Input layer\n",
    "    inputs = Input(shape=(sequence_length-1, EMBEDDING_SIZE))\n",
    "    lstm_out = LSTM(units, activation='relu')(inputs)\n",
    "    # Attention mechanism\n",
    "    attention = Attention()([lstm_out, lstm_out])\n",
    "    # Concatenate the LSTM output and the attention output\n",
    "    merged = Concatenate(axis=-1)([lstm_out, attention])\n",
    "    # Flatten the input\n",
    "    flattened = Flatten()(merged)\n",
    "    # Dense layer for classification\n",
    "    output = Dense(len(index_to_embedding), activation='softmax')(flattened)\n",
    "    # Build the model\n",
    "    model = Model(inputs=inputs, outputs=output)\n",
    "    # Compile the model\n",
    "    model.compile(loss='categorical_crossentropy', optimizer='adam', metrics=['accuracy'])\n",
    "    # Fit the model\n",
    "    history = model.fit(x=generator, steps_per_epoch=len(X) // batch_size, epochs=epochs)\n",
    "    # Save the model\n",
    "    model.save('../models/attention_lstm_model.h5')\n",
    "    # training_loss_history = history.history['loss']\n",
    "    # plt.plot(training_loss_history)\n",
    "    # plt.xlabel('Epoch')\n",
    "    # plt.ylabel('Training Loss')\n",
    "    # plt.title('Training Loss Over Epochs')\n",
    "    # plt.show()\n",
    "\n",
    "    return model, history"
   ]
  },
  {
   "cell_type": "code",
   "execution_count": 58,
   "metadata": {},
   "outputs": [
    {
     "name": "stdout",
     "output_type": "stream",
     "text": [
      "WARNING:tensorflow:Layer lstm_1 will not use cuDNN kernels since it doesn't meet the criteria. It will use a generic GPU kernel as fallback when running on GPU.\n",
      "10493/10493 [==============================] - 2193s 209ms/step - loss: 3.4914 - accuracy: 0.2306\n"
     ]
    }
   ],
   "source": [
    "attention_lstm_model, attention_lstm_history = build_attention_lstm_model(X_train, y_train, index_to_embedding, batch_size=1000, sequence_length=N_GRAM, epochs=1, units=2)"
   ]
  }
 ],
 "metadata": {
  "kernelspec": {
   "display_name": "Python 3",
   "language": "python",
   "name": "python3"
  },
  "language_info": {
   "codemirror_mode": {
    "name": "ipython",
    "version": 3
   },
   "file_extension": ".py",
   "mimetype": "text/x-python",
   "name": "python",
   "nbconvert_exporter": "python",
   "pygments_lexer": "ipython3",
   "version": "3.11.5"
  }
 },
 "nbformat": 4,
 "nbformat_minor": 2
}
