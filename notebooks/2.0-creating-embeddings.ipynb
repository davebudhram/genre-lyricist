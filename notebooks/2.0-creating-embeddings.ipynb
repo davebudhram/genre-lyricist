{
 "cells": [
  {
   "cell_type": "code",
   "execution_count": 9,
   "metadata": {},
   "outputs": [
    {
     "name": "stderr",
     "output_type": "stream",
     "text": [
      "[nltk_data] Downloading package punkt to\n",
      "[nltk_data]     /Users/davebudhram/nltk_data...\n",
      "[nltk_data]   Package punkt is already up-to-date!\n"
     ]
    }
   ],
   "source": [
    "import pandas as pd\n",
    "import nltk\n",
    "import csv\n",
    "download = nltk.download('punkt')\n",
    "# for word embeddings\n",
    "from gensim.models import Word2Vec\n",
    "\n",
    "from utils import tokenize_song, tokenize_song_by_stanza"
   ]
  },
  {
   "cell_type": "code",
   "execution_count": 10,
   "metadata": {},
   "outputs": [],
   "source": [
    "TRAIN_FILE = '../data/processed/processed_data.csv'\n",
    "EMBEDDING_LYRICS_SAVE_FILE = '../reference-materials/lyrics_embeddings.txt'\n",
    "STANZAS_FILE = '../data/processed/stanzas.txt'\n",
    "EMBEDDINGS_SIZE = 100\n",
    "N_GRAM = 5\n",
    "SENTENCE_BEGIN = '<s>'\n",
    "SENTENCE_END = '</s>'"
   ]
  },
  {
   "cell_type": "markdown",
   "metadata": {},
   "source": [
    "# Tokenize all the songs in the dataframe\n",
    "Import the data from the train file and tokenize each song in the dataframe. This will split \n",
    "songs up by line."
   ]
  },
  {
   "cell_type": "code",
   "execution_count": 11,
   "metadata": {},
   "outputs": [],
   "source": [
    "new_stanzas_as_words = []\n",
    "with open(STANZAS_FILE, 'r', encoding='utf-8') as txtfile:\n",
    "    for line in txtfile:\n",
    "        # Split each line into a list using '\\t' as the separator\n",
    "        line_data = line.strip().split('\\t')\n",
    "        new_stanzas_as_words.append(line_data)"
   ]
  },
  {
   "cell_type": "markdown",
   "metadata": {},
   "source": [
    "# Create embeddings and save to file"
   ]
  },
  {
   "cell_type": "code",
   "execution_count": 12,
   "metadata": {},
   "outputs": [],
   "source": [
    "model_word = Word2Vec(sentences=new_stanzas_as_words, vector_size=EMBEDDINGS_SIZE , window=5, min_count=1)"
   ]
  },
  {
   "cell_type": "code",
   "execution_count": null,
   "metadata": {},
   "outputs": [],
   "source": [
    "model_word.wv.save_word2vec_format(EMBEDDING_LYRICS_SAVE_FILE, binary=False)"
   ]
  }
 ],
 "metadata": {
  "kernelspec": {
   "display_name": "Python 3",
   "language": "python",
   "name": "python3"
  },
  "language_info": {
   "codemirror_mode": {
    "name": "ipython",
    "version": 3
   },
   "file_extension": ".py",
   "mimetype": "text/x-python",
   "name": "python",
   "nbconvert_exporter": "python",
   "pygments_lexer": "ipython3",
   "version": "3.11.5"
  }
 },
 "nbformat": 4,
 "nbformat_minor": 2
}
