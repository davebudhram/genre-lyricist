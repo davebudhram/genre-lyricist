{
 "cells": [
  {
   "cell_type": "code",
   "execution_count": 6,
   "metadata": {},
   "outputs": [
    {
     "name": "stderr",
     "output_type": "stream",
     "text": [
      "[nltk_data] Downloading package punkt to\n",
      "[nltk_data]     /Users/davebudhram/nltk_data...\n",
      "[nltk_data]   Package punkt is already up-to-date!\n"
     ]
    }
   ],
   "source": [
    "import pandas as pd\n",
    "import nltk\n",
    "import csv\n",
    "download = nltk.download('punkt')\n",
    "# for word embeddings\n",
    "from gensim.models import Word2Vec\n",
    "\n",
    "from utils import tokenize_song"
   ]
  },
  {
   "cell_type": "code",
   "execution_count": 7,
   "metadata": {},
   "outputs": [],
   "source": [
    "TRAIN_FILE = '../data/processed/processed_data.csv'\n",
    "EMBEDDING_LYRICS_SAVE_FILE = '../reference-materials/lyrics_embeddings.txt'\n",
    "EMBEDDINGS_SIZE = 100\n",
    "N_GRAM = 5\n",
    "SENTENCE_BEGIN = '<s>'\n",
    "SENTENCE_END = '</s>'"
   ]
  },
  {
   "cell_type": "markdown",
   "metadata": {},
   "source": [
    "# Tokenize all the songs in the dataframe\n",
    "Import the data from the train file and tokenize each song in the dataframe. This will split \n",
    "songs up by line."
   ]
  },
  {
   "cell_type": "code",
   "execution_count": 8,
   "metadata": {},
   "outputs": [
    {
     "name": "stdout",
     "output_type": "stream",
     "text": [
      "['pop', '<s>', '<s>', '<s>', 'look', 'at', 'her', 'face', ',', 'it', \"'s\", 'a', 'wonderful', 'face', '</s>', '</s>', '</s>']\n"
     ]
    }
   ],
   "source": [
    "df = pd.read_csv(TRAIN_FILE)\n",
    "df.head()\n",
    "data_lyrics = df['text'].tolist()\n",
    "data_genre = df['genre'].tolist()\n",
    "data = []\n",
    "for song, genre in zip(data_lyrics, data_genre):\n",
    "  lines = tokenize_song(song, ngram=N_GRAM)\n",
    "  for line in lines:\n",
    "    line.insert(0, genre)\n",
    "  data.extend(lines)\n",
    "print(data[0])\n",
    "\n"
   ]
  },
  {
   "cell_type": "markdown",
   "metadata": {},
   "source": [
    "# Create embeddings and save to file"
   ]
  },
  {
   "cell_type": "code",
   "execution_count": 9,
   "metadata": {},
   "outputs": [],
   "source": [
    "model_word = Word2Vec(sentences=data, vector_size=EMBEDDINGS_SIZE , window=5, min_count=1)"
   ]
  },
  {
   "cell_type": "code",
   "execution_count": 10,
   "metadata": {},
   "outputs": [],
   "source": [
    "model_word.wv.save_word2vec_format(EMBEDDING_LYRICS_SAVE_FILE, binary=False)"
   ]
  }
 ],
 "metadata": {
  "kernelspec": {
   "display_name": "Python 3",
   "language": "python",
   "name": "python3"
  },
  "language_info": {
   "codemirror_mode": {
    "name": "ipython",
    "version": 3
   },
   "file_extension": ".py",
   "mimetype": "text/x-python",
   "name": "python",
   "nbconvert_exporter": "python",
   "pygments_lexer": "ipython3",
   "version": "3.11.5"
  }
 },
 "nbformat": 4,
 "nbformat_minor": 2
}
